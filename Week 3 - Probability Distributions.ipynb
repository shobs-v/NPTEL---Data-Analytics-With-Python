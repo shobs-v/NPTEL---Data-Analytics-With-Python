{
 "cells": [
  {
   "cell_type": "code",
   "execution_count": 43,
   "metadata": {},
   "outputs": [],
   "source": [
    "import numpy as np\n",
    "import matplotlib.pyplot as plt\n",
    "from scipy.stats import binom\n",
    "from scipy.stats import poisson\n",
    "from scipy.stats import uniform\n",
    "from scipy.stats import norm\n",
    "from scipy.stats import hypergeom"
   ]
  },
  {
   "cell_type": "code",
   "execution_count": 50,
   "metadata": {},
   "outputs": [],
   "source": [
    "from scipy.stats import expon"
   ]
  },
  {
   "cell_type": "markdown",
   "metadata": {},
   "source": [
    "![](http://www.stat.yale.edu/Courses/1997-98/101/binpdf.gif)"
   ]
  },
  {
   "cell_type": "markdown",
   "metadata": {},
   "source": [
    "# Discrete Distributions"
   ]
  },
  {
   "cell_type": "markdown",
   "metadata": {},
   "source": [
    "### Binomial Distribution"
   ]
  },
  {
   "cell_type": "markdown",
   "metadata": {},
   "source": [
    "<h6>Question:</h6>\n",
    "\n",
    "A survey found that 65% of all financial consumers were very satisfied with their primary financial institution. Suppose that 25 financial consumers are\n",
    "sampled and if the survey result still hold the true today what is the probability that exactly 19 are very satisfied with their primary finance institutions."
   ]
  },
  {
   "cell_type": "code",
   "execution_count": 4,
   "metadata": {},
   "outputs": [
    {
     "name": "stdout",
     "output_type": "stream",
     "text": [
      "0.09077799859322791\n"
     ]
    }
   ],
   "source": [
    "# Use the pmf() function to calculate cumulative probability for X=19\n",
    "print(binom.pmf(k = 19, n = 25, p = 0.65))"
   ]
  },
  {
   "cell_type": "markdown",
   "metadata": {},
   "source": [
    "<h6>Question:</h6>\n",
    "\n",
    "According to the U.S. Census Bureau, approximately 6 percentage of all workers in Jackson, Mississippi are unemployed. In conducting a random telephone survey in Jackson, what is the probability of getting 2 or fewer unemployed workers in a sample of 20?"
   ]
  },
  {
   "cell_type": "code",
   "execution_count": 5,
   "metadata": {},
   "outputs": [
    {
     "name": "stdout",
     "output_type": "stream",
     "text": [
      "0.8850275957378545\n"
     ]
    }
   ],
   "source": [
    "# Use the cdf() function to calculate cumulative probability for X<=2\n",
    "\n",
    "print(binom.cdf(k = 2, n = 20, p = 0.06))"
   ]
  },
  {
   "cell_type": "markdown",
   "metadata": {},
   "source": [
    "### Poisson Distribution"
   ]
  },
  {
   "cell_type": "code",
   "execution_count": 8,
   "metadata": {},
   "outputs": [
    {
     "data": {
      "text/plain": [
       "0.18044704431548356"
      ]
     },
     "execution_count": 8,
     "metadata": {},
     "output_type": "execute_result"
    }
   ],
   "source": [
    "# Poisson probability for X = 3, mean = 2\n",
    "\n",
    "poisson.pmf(k = 3,mu = 2)"
   ]
  },
  {
   "cell_type": "markdown",
   "metadata": {},
   "source": [
    "<h6>Question:</h6>\n",
    "\n",
    "Suppose bank customers arrive randomly on any weekday afternoon at an average of 3.2 customers every 4 minutes. What is the probability of exactly 5 customers arriving in a 4-minute interval on a weekday afternoon?"
   ]
  },
  {
   "cell_type": "code",
   "execution_count": 10,
   "metadata": {},
   "outputs": [
    {
     "data": {
      "text/plain": [
       "0.11397938346351824"
      ]
     },
     "execution_count": 10,
     "metadata": {},
     "output_type": "execute_result"
    }
   ],
   "source": [
    "# Use the pmf() function to calculate probability for X=5, mean = 3.2 customers/4 min\n",
    "\n",
    "poisson.pmf(k = 5, mu = 3.2)"
   ]
  },
  {
   "cell_type": "markdown",
   "metadata": {},
   "source": [
    "<h6>Question:</h6>\n",
    "\n",
    "Bank customers arrive randomly on weekday afternoon at an average of 3.2 customers every 4 minutes. What is the probability of having more than 7 customers\n",
    "in a 4-minute interval on a week day afternoon?\n"
   ]
  },
  {
   "cell_type": "code",
   "execution_count": 12,
   "metadata": {},
   "outputs": [
    {
     "name": "stdout",
     "output_type": "stream",
     "text": [
      "0.01682984174895752\n"
     ]
    }
   ],
   "source": [
    "# Use the cdf() function to calculate cumulative probability for X<=7\n",
    "# Answer is 1-P(X<=7)\n",
    "\n",
    "prob = poisson.cdf(k = 7, mu = 3.2)\n",
    "ans = 1 - prob\n",
    "print(ans)"
   ]
  },
  {
   "cell_type": "markdown",
   "metadata": {},
   "source": [
    "<h6>Question:</h6>\n",
    "\n",
    "A bank has an average random arrival rate of 3.2 customers every 4 minutes. What is the probability of getting exactly 10 customers during 8 minutes interval?"
   ]
  },
  {
   "cell_type": "code",
   "execution_count": 13,
   "metadata": {},
   "outputs": [
    {
     "data": {
      "text/plain": [
       "0.052790043854115495"
      ]
     },
     "execution_count": 13,
     "metadata": {},
     "output_type": "execute_result"
    }
   ],
   "source": [
    "# Use the pmf() function to calculate probability for X=10, mean = 6.4 customers/8 min\n",
    "poisson.pmf(k = 10, mu = 6.4)"
   ]
  },
  {
   "cell_type": "markdown",
   "metadata": {},
   "source": [
    "### Hypergeometric Distribution"
   ]
  },
  {
   "cell_type": "markdown",
   "metadata": {},
   "source": [
    "<h6>Question:</h6>\n",
    "\n",
    "Suppose 18 major computer companies operate in the United States and that 12 are located in California's Silicon Valley. If 3 computer companies are selected randomly from their entire list, what is the probability that one or more of the selected companies are located in the Silicon Valley?"
   ]
  },
  {
   "cell_type": "code",
   "execution_count": 40,
   "metadata": {},
   "outputs": [
    {
     "data": {
      "text/plain": [
       "0.975"
      ]
     },
     "execution_count": 40,
     "metadata": {},
     "output_type": "execute_result"
    }
   ],
   "source": [
    "# N = 18, A = 12, n = 3, x = 1\n",
    "# sf() = 1 - cdf()\n",
    "# The function below calculates 1- P(0) which is equivalent to (P(1)+P(2)+P(3)), note cdf(0) = P(0)\n",
    "ans = hypergeom.sf(0,18,3,12)\n",
    "round(ans,3)"
   ]
  },
  {
   "cell_type": "code",
   "execution_count": 48,
   "metadata": {},
   "outputs": [
    {
     "data": {
      "image/png": "[encoded data removed]",
      "text/plain": [
       "<Figure size 432x288 with 1 Axes>"
      ]
     },
     "metadata": {
      "needs_background": "light"
     },
     "output_type": "display_data"
    }
   ],
   "source": [
    "# Plot of probabilities - P(0), P(1), P(2), P(3)\n",
    "[M, n, N] = [18, 12, 3]\n",
    "rv = hypergeom(M, n, N)\n",
    "x = np.arange(0, N+1)\n",
    "pmf_companies = rv.pmf(x)\n",
    "\n",
    "fig = plt.figure()\n",
    "ax = fig.add_subplot(111)\n",
    "ax.plot(x, pmf_companies, 'bo')\n",
    "ax.vlines(x, 0, pmf_companies, lw=2)\n",
    "ax.set_xlabel('Number of companies located in Silicon Valley in our group of chosen companies')\n",
    "ax.set_ylabel('hypergeom PMF')\n",
    "\n",
    "plt.show()"
   ]
  },
  {
   "cell_type": "code",
   "execution_count": 41,
   "metadata": {},
   "outputs": [
    {
     "data": {
      "text/plain": [
       "0.975"
      ]
     },
     "execution_count": 41,
     "metadata": {},
     "output_type": "execute_result"
    }
   ],
   "source": [
    "# Alternate method - P(1 <= X <=3) = P(X<=3) - P(0)\n",
    "ans = hypergeom.cdf(3,18,3,12) - hypergeom.pmf(0,18,3,12)\n",
    "round(ans,3)"
   ]
  },
  {
   "cell_type": "markdown",
   "metadata": {},
   "source": [
    "<h6>Question:</h6>\n",
    "\n",
    "A western city has 18 police officers eligible for promotion. 11 of 18 are Hispanic. Suppose only 5 of the police officers are chosen for promotion. If the officer chosen for promotion had been selected by chance alone, what is the probability that one or fewer of the 5 promoted officers would have been Hispanic?"
   ]
  },
  {
   "cell_type": "code",
   "execution_count": 49,
   "metadata": {},
   "outputs": [
    {
     "data": {
      "text/plain": [
       "0.04738562091503275"
      ]
     },
     "execution_count": 49,
     "metadata": {},
     "output_type": "execute_result"
    }
   ],
   "source": [
    "# N = 18, A = 11, n = 5, x = 1\n",
    "# To find P(X <= 1)\n",
    "hypergeom.cdf(1,18,5,11)"
   ]
  },
  {
   "cell_type": "markdown",
   "metadata": {},
   "source": [
    "# Continuous Distributions"
   ]
  },
  {
   "cell_type": "markdown",
   "metadata": {},
   "source": [
    "### Uniform Distribution"
   ]
  },
  {
   "cell_type": "markdown",
   "metadata": {},
   "source": [
    "<h6>Question:</h6>\n",
    "\n",
    "Suppose the amount of time it takes to assembly a plastic module ranges from 27 to 39 seconds and the assembly times are uniformly distributed. Describe the distribution. What is the probability that a given assembly will take between 30 and 35 seconds?"
   ]
  },
  {
   "cell_type": "code",
   "execution_count": 19,
   "metadata": {},
   "outputs": [
    {
     "name": "stdout",
     "output_type": "stream",
     "text": [
      "P(30) = 0.25\n",
      "P(31) = 0.333\n",
      "P(32) = 0.417\n",
      "P(33) = 0.5\n",
      "P(34) = 0.583\n",
      "P(35) = 0.667\n"
     ]
    }
   ],
   "source": [
    "# Using the parameters loc and scale, one obtains the uniform distribution on [loc, loc + scale]\n",
    "# The cdf() function below returns an array of CUMULATIVE probabilities for every point specified in the range 30 to 35\n",
    "probabilities = uniform.cdf(np.arange(30,36), loc = 27, scale = 12)\n",
    "for x in range(30,36):\n",
    "    print(f'P({x}) = {round(probabilities[x-30],3)}')"
   ]
  },
  {
   "cell_type": "code",
   "execution_count": 21,
   "metadata": {},
   "outputs": [
    {
     "data": {
      "text/plain": [
       "0.417"
      ]
     },
     "execution_count": 21,
     "metadata": {},
     "output_type": "execute_result"
    }
   ],
   "source": [
    "ans = probabilities[5] - probabilities[0]\n",
    "round(ans,3)"
   ]
  },
  {
   "cell_type": "markdown",
   "metadata": {},
   "source": [
    "<h6>Question:</h6>\n",
    "\n",
    "According to the National Association of Insurance Commissioners, the average annual cost of automobile insurance in the United States in a recent year was \\\\$691. Suppose the automobile insurance costs are uniformly distributed in the United States with a range from \\\\$200 to \\\\$1182. What is the standard deviation of this uniform distribution?"
   ]
  },
  {
   "cell_type": "code",
   "execution_count": 22,
   "metadata": {},
   "outputs": [
    {
     "data": {
      "text/plain": [
       "691.0"
      ]
     },
     "execution_count": 22,
     "metadata": {},
     "output_type": "execute_result"
    }
   ],
   "source": [
    "# mean = 691, a = 200, b = 1182\n",
    "# Checking mean below\n",
    "\n",
    "uniform.mean(loc = 200,scale = 982)"
   ]
  },
  {
   "cell_type": "code",
   "execution_count": 23,
   "metadata": {},
   "outputs": [
    {
     "data": {
      "text/plain": [
       "283.4789821721062"
      ]
     },
     "execution_count": 23,
     "metadata": {},
     "output_type": "execute_result"
    }
   ],
   "source": [
    "# Standard deviation\n",
    "uniform.std(loc = 200, scale = 982)"
   ]
  },
  {
   "cell_type": "markdown",
   "metadata": {},
   "source": [
    "### Normal Distribution"
   ]
  },
  {
   "cell_type": "code",
   "execution_count": 26,
   "metadata": {},
   "outputs": [
    {
     "data": {
      "text/plain": [
       "0.8413447460685429"
      ]
     },
     "execution_count": 26,
     "metadata": {},
     "output_type": "execute_result"
    }
   ],
   "source": [
    "# Find probability for X <= 68, given a normal distribution with mean = 65.5 and std = 2.5\n",
    "x,mean,std = 68,65.5,2.5\n",
    "norm.cdf(x,mean,std)"
   ]
  },
  {
   "cell_type": "code",
   "execution_count": 29,
   "metadata": {},
   "outputs": [
    {
     "data": {
      "text/plain": [
       "0.159"
      ]
     },
     "execution_count": 29,
     "metadata": {},
     "output_type": "execute_result"
    }
   ],
   "source": [
    "# Find probability for X > 68, given a normal distribution with mean = 65.5 and std = 2.5\n",
    "x,mean,std = 68,65.5,2.5\n",
    "ans = 1-norm.cdf(x,mean,std)\n",
    "round(ans,3)"
   ]
  },
  {
   "cell_type": "code",
   "execution_count": 31,
   "metadata": {},
   "outputs": [
    {
     "data": {
      "text/plain": [
       "0.683"
      ]
     },
     "execution_count": 31,
     "metadata": {},
     "output_type": "execute_result"
    }
   ],
   "source": [
    "# Find probability that X lies between 63 and 68, given a normal distribution with mean = 65.5 and std = 2.5\n",
    "mean,std = 65.5,2.5\n",
    "ans = norm.cdf(68,mean,std) - norm.cdf(63,mean,std)\n",
    "round(ans,3)"
   ]
  },
  {
   "cell_type": "markdown",
   "metadata": {},
   "source": [
    "<h6>Question:</h6>\n",
    "\n",
    "What is the probability of obtaining a score greater than 700 on a GMAT test that has a mean equal to 494 and standard deviation of 100? Assume GMAT scores are normally distributed."
   ]
  },
  {
   "cell_type": "code",
   "execution_count": 32,
   "metadata": {},
   "outputs": [
    {
     "data": {
      "text/plain": [
       "0.02"
      ]
     },
     "execution_count": 32,
     "metadata": {},
     "output_type": "execute_result"
    }
   ],
   "source": [
    "# To find P(X>700), mean = 494, std = 100\n",
    "ans = 1 - norm.cdf(700,loc = 494, scale = 100)\n",
    "round(ans,3)"
   ]
  },
  {
   "cell_type": "markdown",
   "metadata": {},
   "source": [
    "<h6>Question:</h6>\n",
    "\n",
    "For the same GMAT test, what is the probability of randomly drawing a score that is 550 or less?\n"
   ]
  },
  {
   "cell_type": "code",
   "execution_count": 33,
   "metadata": {},
   "outputs": [
    {
     "data": {
      "text/plain": [
       "0.712"
      ]
     },
     "execution_count": 33,
     "metadata": {},
     "output_type": "execute_result"
    }
   ],
   "source": [
    "# To find P(X<=550), mean = 494, std = 100\n",
    "ans = norm.cdf(550,loc = 494, scale = 100)\n",
    "round(ans,3)"
   ]
  },
  {
   "cell_type": "markdown",
   "metadata": {},
   "source": [
    "<h6>Question:</h6>\n",
    "\n",
    "For the same GMAT test, what is the probability of randomly obtaining a score between 300 to 600?"
   ]
  },
  {
   "cell_type": "code",
   "execution_count": 34,
   "metadata": {},
   "outputs": [
    {
     "data": {
      "text/plain": [
       "0.829"
      ]
     },
     "execution_count": 34,
     "metadata": {},
     "output_type": "execute_result"
    }
   ],
   "source": [
    "# To find P(300 < X < 600), mean = 494, std = 100\n",
    "ans = norm.cdf(600,loc = 494, scale = 100) - norm.cdf(300,loc = 494, scale = 100)\n",
    "round(ans,3)"
   ]
  },
  {
   "cell_type": "code",
   "execution_count": 37,
   "metadata": {},
   "outputs": [
    {
     "data": {
      "text/plain": [
       "1.6448536269514722"
      ]
     },
     "execution_count": 37,
     "metadata": {},
     "output_type": "execute_result"
    }
   ],
   "source": [
    "# Find Z value, given area = 0.95 for a standard normal distribution(mean = 0, std = 1)\n",
    "# ppf() function is the inverse of cdf()\n",
    "# The answer below specifies the point on the x axis whose area to the left is 0.95\n",
    "Z = norm.ppf(0.95)\n",
    "Z"
   ]
  },
  {
   "cell_type": "code",
   "execution_count": 38,
   "metadata": {},
   "outputs": [
    {
     "data": {
      "text/plain": [
       "-0.45988328292440145"
      ]
     },
     "execution_count": 38,
     "metadata": {},
     "output_type": "execute_result"
    }
   ],
   "source": [
    "# Find Z value, given area = (1 - 0.6772) for a standard normal distribution(mean = 0, std = 1)\n",
    "Z = norm.ppf(1-0.6772)\n",
    "Z"
   ]
  },
  {
   "cell_type": "markdown",
   "metadata": {},
   "source": [
    "### Exponential Distribution"
   ]
  },
  {
   "cell_type": "markdown",
   "metadata": {},
   "source": [
    "<h6>Question:</h6>\n",
    "\n",
    "A manufacturing firm has involved in statistical quality control for several years. As part of the production process parts are randomly selected and tested. From the records of these tests, it has been established that the defective part occur in a pattern that is Poisson distributed on the average of 1.38 defects every 20 minutes during production run. Use the information to determine the probability that less than 15 minutes will elapse between any 2 defects.\n"
   ]
  },
  {
   "cell_type": "code",
   "execution_count": 52,
   "metadata": {},
   "outputs": [
    {
     "data": {
      "text/plain": [
       "0.6447736190750485"
      ]
     },
     "execution_count": 52,
     "metadata": {},
     "output_type": "execute_result"
    }
   ],
   "source": [
    "# Note: expon.pdf(x, loc, scale) is identically equivalent to (expon.pdf(y)/scale), with y = (x - loc) / scale.\n",
    "# To find P(X <= 15), mean HAS TO BE specified in the units - minutes/defect\n",
    "# loc parameter specifies starting point of the distribution\n",
    "mu = 20/1.38\n",
    "expon.cdf(x = 15,loc = 0,scale = mu)"
   ]
  },
  {
   "cell_type": "code",
   "execution_count": 56,
   "metadata": {},
   "outputs": [
    {
     "data": {
      "text/plain": [
       "[<matplotlib.lines.Line2D at 0x2e52e24af40>]"
      ]
     },
     "execution_count": 56,
     "metadata": {},
     "output_type": "execute_result"
    },
    {
     "data": {
      "image/png": "[encoded data removed]",
      "text/plain": [
       "<Figure size 432x288 with 1 Axes>"
      ]
     },
     "metadata": {
      "needs_background": "light"
     },
     "output_type": "display_data"
    }
   ],
   "source": [
    "x = np.linspace(0,20,1000)\n",
    "plt.plot(x,expon.pdf(x,loc = 0,scale = mu))"
   ]
  },
  {
   "cell_type": "code",
   "execution_count": null,
   "metadata": {},
   "outputs": [],
   "source": []
  }
 ],
 "metadata": {
  "kernelspec": {
   "display_name": "Python 3",
   "language": "python",
   "name": "python3"
  },
  "language_info": {
   "codemirror_mode": {
    "name": "ipython",
    "version": 3
   },
   "file_extension": ".py",
   "mimetype": "text/x-python",
   "name": "python",
   "nbconvert_exporter": "python",
   "pygments_lexer": "ipython3",
   "version": "3.8.5"
  }
 },
 "nbformat": 4,
 "nbformat_minor": 4
}
