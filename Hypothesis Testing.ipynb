{
 "cells": [
  {
   "cell_type": "code",
   "execution_count": 1,
   "metadata": {},
   "outputs": [],
   "source": [
    "from scipy.stats import norm,ttest_ind,ttest_rel,t,f\n",
    "import numpy as np\n",
    "from math import ceil"
   ]
  },
  {
   "cell_type": "markdown",
   "metadata": {},
   "source": [
    "### Calculating Type 1 and Type 2 Errors"
   ]
  },
  {
   "cell_type": "code",
   "execution_count": 4,
   "metadata": {},
   "outputs": [],
   "source": [
    "# function to calculate Type 1 Error(Two Tailed Tests only)\n",
    "\n",
    "def type_one_error(popn_mean,sample_size,popn_std,lower_limit,upper_limit):\n",
    "    # Calculate Z value\n",
    "    z1 = (lower_limit - popn_mean) / (popn_std/(sample_size ** 0.5))\n",
    "    z2 = (upper_limit - popn_mean) / (popn_std/(sample_size ** 0.5))\n",
    "    error = norm.cdf(z1) + 1 - norm.cdf(z2)\n",
    "    return error"
   ]
  },
  {
   "cell_type": "code",
   "execution_count": 23,
   "metadata": {},
   "outputs": [
    {
     "name": "stdout",
     "output_type": "stream",
     "text": [
      "Type 1 error: 5.778 %\n"
     ]
    }
   ],
   "source": [
    "# Burn Rate of Propellant Example\n",
    "# H0: mu(population mean) = 50, Ha: mu != 50\n",
    "# n(sample size) = 10, popn_std(sigma) = 2.5, lower limit = 48.5, upper limit = 51.5\n",
    "mu, n, popn_std, lower_limit, upper_limit = 50, 10, 2.5,48.5,51.5\n",
    "print(f'Type 1 error: {round(type_one_error(mu, n, popn_std,lower_limit,upper_limit) * 100,3)} %')"
   ]
  },
  {
   "cell_type": "code",
   "execution_count": 7,
   "metadata": {},
   "outputs": [],
   "source": [
    "# function to calculate Type 2 Error(Two Tailed Tests only)\n",
    "\n",
    "def type_two_error(true_mean,sample_size,popn_std,lower_limit,upper_limit):\n",
    "    # Calculate Z value for given true mean\n",
    "    z1 = (lower_limit - true_mean) / (popn_std/(sample_size ** 0.5))\n",
    "    z2 = (upper_limit - true_mean) / (popn_std/(sample_size ** 0.5))\n",
    "    error = norm.cdf(z2) - norm.cdf(z1)\n",
    "    return error"
   ]
  },
  {
   "cell_type": "code",
   "execution_count": 9,
   "metadata": {},
   "outputs": [
    {
     "name": "stdout",
     "output_type": "stream",
     "text": [
      "Type 2 error: 26.354 %\n"
     ]
    }
   ],
   "source": [
    "# Burn Rate of Propellant Example\n",
    "# H0: mu(population mean) = 50, Ha: mu != 50\n",
    "# n(sample size) = 10, popn_std(sigma) = 2.5, lower limit = 48.5, upper limit = 51.5\n",
    "# True mean = 52\n",
    "true_mean, n, popn_std, lower_limit, upper_limit = 52, 10, 2.5,48.5,51.5\n",
    "print(f'Type 2 error: {round(type_two_error(true_mean, n, popn_std,lower_limit,upper_limit) * 100,3)} %')"
   ]
  },
  {
   "cell_type": "code",
   "execution_count": 10,
   "metadata": {},
   "outputs": [
    {
     "data": {
      "text/plain": [
       "-1.9599639845400545"
      ]
     },
     "execution_count": 10,
     "metadata": {},
     "output_type": "execute_result"
    }
   ],
   "source": [
    "norm.ppf(0.025)"
   ]
  },
  {
   "cell_type": "markdown",
   "metadata": {},
   "source": [
    "## Independent Samples"
   ]
  },
  {
   "cell_type": "markdown",
   "metadata": {},
   "source": [
    "### Testing Two Samples where population variances are unknown and assumed equal"
   ]
  },
  {
   "cell_type": "code",
   "execution_count": 5,
   "metadata": {},
   "outputs": [
    {
     "name": "stdout",
     "output_type": "stream",
     "text": [
      "Mean of 1st sample - 92.732, Mean of 2nd sample - 92.255\n",
      "Variance of 1st sample - 7.788, Variance of 2nd sample - 4.977\n",
      "Standard Deviation of 1st sample - 2.791, Mean of 2nd sample - 2.231\n",
      "t = -0.3535908643461798, P-value = 0.7289136186068217\n"
     ]
    }
   ],
   "source": [
    "# Catalyst Example(Two Samples Testing)\n",
    "# sample 1 mean = 92.255, sample 2 mean = 92.733\n",
    "# sample 1 variance = 2.39, sample 2 variance = 2.98\n",
    "# sample 1 size = sample 2 size = 8\n",
    "# H0: mu_1 = mu_2, Ha: mu_1 != mu_2\n",
    "# alpha = 0.05\n",
    "b = [89.19,90.95,90.46,93.21,97.19,97.04,91.07,92.75]\n",
    "arr_b = np.array(b)\n",
    "a = [91.5,94.18,92.18,95.39,91.79,89.07,94.72,89.21]\n",
    "arr_a = np.array(a)\n",
    "print(f'Mean of 1st sample - {round(arr_b.mean(),3)}, Mean of 2nd sample - {round(arr_a.mean(),3)}')\n",
    "print(f'Variance of 1st sample - {round(arr_b.var(),3)}, Variance of 2nd sample - {round(arr_a.var(),3)}')\n",
    "print(f'Standard Deviation of 1st sample - {round(arr_b.std(),3)}, Standard Deviation of 2nd sample - {round(arr_a.std(),3)}')\n",
    "alpha = 0.05\n",
    "t_value, p_value = ttest_ind(a,b,equal_var= True)\n",
    "print(f't = {t_value}, P-value = {p_value}')"
   ]
  },
  {
   "cell_type": "code",
   "execution_count": 21,
   "metadata": {},
   "outputs": [
    {
     "name": "stdout",
     "output_type": "stream",
     "text": [
      "Null hypothesis not rejected\n"
     ]
    }
   ],
   "source": [
    "# Testing using P-value method\n",
    "if p_value <= alpha:\n",
    "    print('Null hypothesis rejected')\n",
    "else:\n",
    "    print('Null hypothesis not rejected')"
   ]
  },
  {
   "cell_type": "code",
   "execution_count": 22,
   "metadata": {},
   "outputs": [
    {
     "name": "stdout",
     "output_type": "stream",
     "text": [
      "Null hypothesis is not rejected\n"
     ]
    }
   ],
   "source": [
    "# Testing using Critical Value Method\n",
    "critical_value = t.ppf(alpha/2,14)\n",
    "if (t_value < 0 and t_value < critical_value) or (t_value > 0 and t_value > (-critical_value)):\n",
    "    print('Null hypothesis is rejected')\n",
    "else: \n",
    "    print('Null hypothesis is not rejected')"
   ]
  },
  {
   "cell_type": "markdown",
   "metadata": {},
   "source": [
    "### Testing Two Samples where population variances are unknown and assumed unequal"
   ]
  },
  {
   "cell_type": "code",
   "execution_count": 4,
   "metadata": {},
   "outputs": [
    {
     "name": "stdout",
     "output_type": "stream",
     "text": [
      "t = -2.7669395785560558, P-value = 0.015827284816100885\n"
     ]
    }
   ],
   "source": [
    "# Arsenic concentration in water example\n",
    "# H0: mu1 = mu2, Ha: mu1 != mu2\n",
    "# alpha = 0.05\n",
    "metro = [3,7,25,10,15,6,12,25,15,7]\n",
    "rural = [48,44,40,38,33,21,20,12,1,18]\n",
    "alpha = 0.05\n",
    "# Note that equal_var is set to False in this example\n",
    "t_value, p_value = ttest_ind(metro,rural, equal_var= False)\n",
    "print(f't = {t_value}, P-value = {p_value}')"
   ]
  },
  {
   "cell_type": "code",
   "execution_count": 5,
   "metadata": {},
   "outputs": [
    {
     "name": "stdout",
     "output_type": "stream",
     "text": [
      "Null hypothesis rejected\n"
     ]
    }
   ],
   "source": [
    "# Testing using P-value method\n",
    "if p_value <= alpha:\n",
    "    print('Null hypothesis rejected')\n",
    "else:\n",
    "    print('Null hypothesis not rejected')"
   ]
  },
  {
   "cell_type": "code",
   "execution_count": 6,
   "metadata": {},
   "outputs": [
    {
     "name": "stdout",
     "output_type": "stream",
     "text": [
      "Null hypothesis is rejected\n"
     ]
    }
   ],
   "source": [
    "# Testing using Critical Value Method\n",
    "critical_value = t.ppf(alpha/2,14)\n",
    "if (t_value < 0 and t_value < critical_value) or (t_value > 0 and t_value > (-critical_value)):\n",
    "    print('Null hypothesis is rejected')\n",
    "else: \n",
    "    print('Null hypothesis is not rejected')"
   ]
  },
  {
   "cell_type": "markdown",
   "metadata": {},
   "source": [
    "## Dependent Samples\n"
   ]
  },
  {
   "cell_type": "code",
   "execution_count": 12,
   "metadata": {},
   "outputs": [
    {
     "name": "stdout",
     "output_type": "stream",
     "text": [
      "t = 6.0819394375848255, P-value = 0.00029529546278604066\n"
     ]
    }
   ],
   "source": [
    "# Steel Plate Girders Example\n",
    "# H0: mu1 = mu2, Ha: mu1 != mu2\n",
    "# alpha = 0.05\n",
    "KARL = [1.186,1.151,1.322,1.339,1.200,1.402,1.365,1.537,1.559]\n",
    "LEH = [1.061,0.992,1.063,1.062,1.065,1.178,1.037,1.086,1.052]\n",
    "alpha = 0.05\n",
    "t_value, p_value = ttest_rel(KARL,LEH)\n",
    "print(f't = {t_value}, P-value = {p_value}')"
   ]
  },
  {
   "cell_type": "code",
   "execution_count": 10,
   "metadata": {},
   "outputs": [
    {
     "name": "stdout",
     "output_type": "stream",
     "text": [
      "Null hypothesis rejected\n"
     ]
    }
   ],
   "source": [
    "# Testing using P-value method\n",
    "if p_value <= alpha:\n",
    "    print('Null hypothesis rejected')\n",
    "else:\n",
    "    print('Null hypothesis not rejected')"
   ]
  },
  {
   "cell_type": "code",
   "execution_count": 11,
   "metadata": {},
   "outputs": [
    {
     "name": "stdout",
     "output_type": "stream",
     "text": [
      "Null hypothesis is rejected\n"
     ]
    }
   ],
   "source": [
    "# Testing using Critical Value Method\n",
    "critical_value = t.ppf(alpha/2,14)\n",
    "if (t_value < 0 and t_value < critical_value) or (t_value > 0 and t_value > (-critical_value)):\n",
    "    print('Null hypothesis is rejected')\n",
    "else: \n",
    "    print('Null hypothesis is not rejected')"
   ]
  },
  {
   "cell_type": "markdown",
   "metadata": {},
   "source": [
    "# Proportion Testing for Two Samples"
   ]
  },
  {
   "cell_type": "code",
   "execution_count": 19,
   "metadata": {},
   "outputs": [],
   "source": [
    "# function to compare two proportions(Two Tailed Tests)\n",
    "# By default, the function assigns P1 = P2 = 0\n",
    "# RESOLVE DOUBT ABOUT POOLED VALUE OF PROPORTION FORMULA\n",
    "def z_test_proportion(p1,p2,n1,n2,P1 = 0,P2 = 0):\n",
    "    std_dev = ((p1*(1 - p1))/ n1 + (p2*(1 - p2))/ n2) ** 0.5\n",
    "    z_value = ((p1 - p2) - (P1 - P2))/std_dev\n",
    "    if z_value < 0:\n",
    "        p_value = norm.cdf(z_value)\n",
    "    else:\n",
    "        p_value = 1 - norm.cdf(z_value)\n",
    "    return z_value, (p_value * 2)"
   ]
  },
  {
   "cell_type": "code",
   "execution_count": 25,
   "metadata": {},
   "outputs": [
    {
     "name": "stdout",
     "output_type": "stream",
     "text": [
      "z = 1.3503191561115557, P-value = 0.17691363028975537\n"
     ]
    }
   ],
   "source": [
    "# St. John's Wort Example\n",
    "# H0: P1 = P2, Ha: P1 ! = P2\n",
    "# p1 = 0.27, p2 = 0.19\n",
    "# n1 = n2 = 100\n",
    "p1,p2,n1,n2 = 0.27,0.19,100,100\n",
    "alpha = 0.05\n",
    "z_value, p_value = z_test_proportion(p1,p2,n1,n2)\n",
    "print(f'z = {z_value}, P-value = {p_value}')"
   ]
  },
  {
   "cell_type": "code",
   "execution_count": 23,
   "metadata": {},
   "outputs": [
    {
     "name": "stdout",
     "output_type": "stream",
     "text": [
      "Null hypothesis not rejected\n"
     ]
    }
   ],
   "source": [
    "# Testing using P-value method\n",
    "if p_value <= alpha:\n",
    "    print('Null hypothesis rejected')\n",
    "else:\n",
    "    print('Null hypothesis not rejected')"
   ]
  },
  {
   "cell_type": "code",
   "execution_count": 30,
   "metadata": {},
   "outputs": [
    {
     "name": "stdout",
     "output_type": "stream",
     "text": [
      "Approximate critical value: -1.97202\n",
      "Null hypothesis is not rejected\n"
     ]
    }
   ],
   "source": [
    "# Testing using Critical Value Method\n",
    "critical_value = t.ppf(alpha/2,198)\n",
    "print(f'Approximate critical value: {round(critical_value,5)}')\n",
    "if (z_value < 0 and z_value < critical_value) or (z_value > 0 and z_value > (-critical_value)):\n",
    "    print('Null hypothesis is rejected')\n",
    "else: \n",
    "    print('Null hypothesis is not rejected')"
   ]
  },
  {
   "cell_type": "markdown",
   "metadata": {},
   "source": [
    "# Variance Testing for Two Samples"
   ]
  },
  {
   "cell_type": "code",
   "execution_count": 14,
   "metadata": {},
   "outputs": [
    {
     "name": "stdout",
     "output_type": "stream",
     "text": [
      "Critical Values: 0.393, 2.845\n",
      "Confience Interval: 0.6804 - 1.8303\n"
     ]
    }
   ],
   "source": [
    "# Surface Roughness Example\n",
    "# H0: var1 = var2, Ha: var1 != var2\n",
    "# n1 = 11, n2 = 16\n",
    "# s1 = 5.1, s2 = 4.7\n",
    "# alpha = 0.1\n",
    "# Task - Estimate Confidence Interval\n",
    "n1,n2,s1,s2,alpha = 11,16,5.1,4.7,0.1\n",
    "# The f.ppf() function measures area from left to right(opposite of the F table mentioned in the video)\n",
    "# Hence, upper value will be given by (1-(alpha/2)) and lower value by (alpha/2)\n",
    "upper_critical_value = f.ppf(q = 1 - alpha/2,dfn = n2 - 1, dfd = n1 - 1) # Since n2>n1, dfn must be greater than dfd\n",
    "lower_critical_value = f.ppf(q = alpha/2,dfn = n2 - 1, dfd = n1 - 1)\n",
    "print(f'Critical Values: {round(lower_critical_value,3)}, {round(upper_critical_value,3)}')\n",
    "lower_limit = ((s1 ** 2/ s2 ** 2) * lower_critical_value) ** 0.5\n",
    "upper_limit = ((s1 ** 2/ s2 ** 2) * upper_critical_value) ** 0.5\n",
    "print(f'Confience Interval: {round(lower_limit,4)} - {round(upper_limit,4)}')"
   ]
  },
  {
   "cell_type": "code",
   "execution_count": 23,
   "metadata": {},
   "outputs": [],
   "source": [
    "# function to calculate p-value for F-test when H0: var1 = var2\n",
    "def f_test(sample_one,sample_two):\n",
    "    f_stat = np.var(sample_one) / np.var(sample_two)\n",
    "    # Assume that n1>n2\n",
    "    dfn = len(sample_one) - 1\n",
    "    dfd = len(sample_two) - 1\n",
    "    return f.cdf(f_stat,dfn,dfd)"
   ]
  },
  {
   "cell_type": "code",
   "execution_count": 24,
   "metadata": {},
   "outputs": [],
   "source": [
    "# General Example\n",
    "# H0: var1 = var2, Ha: var1 != var2\n",
    "# alpha = 0.05\n",
    "sample_one = [3,7,25,10,15,6,12,25,15,7]\n",
    "sample_two = [48,44,40,38,33,21,20,12,1,18]\n",
    "alpha = 0.05\n",
    "p_value = f_test(sample_one,sample_two)"
   ]
  },
  {
   "cell_type": "code",
   "execution_count": 26,
   "metadata": {},
   "outputs": [
    {
     "name": "stdout",
     "output_type": "stream",
     "text": [
      "Null hypothesis rejected\n"
     ]
    }
   ],
   "source": [
    "# Testing using P-value method\n",
    "if p_value <= alpha:\n",
    "    print('Null hypothesis rejected')\n",
    "else:\n",
    "    print('Null hypothesis not rejected')"
   ]
  },
  {
   "cell_type": "markdown",
   "metadata": {},
   "source": [
    "# Estimating Sample Size"
   ]
  },
  {
   "cell_type": "code",
   "execution_count": 4,
   "metadata": {},
   "outputs": [],
   "source": [
    "# Calculate the sample size(One Tailed Test only)\n",
    "def sample_size(alpha,beta,std,mu0,mua):\n",
    "    z_alpha = -norm.ppf(alpha)\n",
    "    z_beta = -norm.ppf(beta)\n",
    "    n = ((z_alpha + z_beta) ** 2 * (std ** 2)) / (mu0 - mua) ** 2\n",
    "    return n"
   ]
  },
  {
   "cell_type": "code",
   "execution_count": 9,
   "metadata": {},
   "outputs": [
    {
     "name": "stdout",
     "output_type": "stream",
     "text": [
      "Sample Size: 156\n"
     ]
    }
   ],
   "source": [
    "# alpha = 0.05, beta = 0.01\n",
    "# std = 3.2, mu0 = 12, mua = 12.75\n",
    "alpha,beta,std,mu0,mua = 0.05,0.1,3.2,12,12.75\n",
    "n = sample_size(alpha,beta,std,mu0,mua)\n",
    "print(f'Sample Size: {ceil(n)}')"
   ]
  },
  {
   "cell_type": "code",
   "execution_count": null,
   "metadata": {},
   "outputs": [],
   "source": []
  }
 ],
 "metadata": {
  "kernelspec": {
   "display_name": "Python 3",
   "language": "python",
   "name": "python3"
  },
  "language_info": {
   "codemirror_mode": {
    "name": "ipython",
    "version": 3
   },
   "file_extension": ".py",
   "mimetype": "text/x-python",
   "name": "python",
   "nbconvert_exporter": "python",
   "pygments_lexer": "ipython3",
   "version": "3.8.5"
  }
 },
 "nbformat": 4,
 "nbformat_minor": 4
}
