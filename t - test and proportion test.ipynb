{
 "cells": [
  {
   "cell_type": "code",
   "execution_count": 16,
   "metadata": {},
   "outputs": [],
   "source": [
    "import numpy as np\n",
    "from scipy.stats import ttest_1samp,t\n",
    "from statsmodels.stats.proportion import proportions_ztest"
   ]
  },
  {
   "cell_type": "code",
   "execution_count": 13,
   "metadata": {},
   "outputs": [
    {
     "data": {
      "text/plain": [
       "Ttest_1sampResult(statistic=1.5623450931857947, pvalue=0.1621787560592894)"
      ]
     },
     "execution_count": 13,
     "metadata": {},
     "output_type": "execute_result"
    }
   ],
   "source": [
    "# H0: mu = 15\n",
    "# Ha: mu != 15\n",
    "# x represents the sample\n",
    "x = [10,12,20,21,22,24,18,15]\n",
    "result = ttest_1samp(x,15)\n",
    "# The test statistic(t value) is the first parameter, total area(on both sides) is the value of second parameter\n",
    "print(result)"
   ]
  },
  {
   "cell_type": "code",
   "execution_count": 14,
   "metadata": {},
   "outputs": [
    {
     "name": "stdout",
     "output_type": "stream",
     "text": [
      "Ttest_1sampResult(statistic=-0.35843385854878496, pvalue=0.7239703579964252)\n"
     ]
    }
   ],
   "source": [
    "# Ice Cream example - H0: mu<=10, Ha: mu > 10, alpha = 0.05 (upper tailed test)\n",
    "x = [13,8,10,10,8,9,10,11,6,8,12,11,11,12,10,12,7,10,11,8]\n",
    "alpha = 0.05\n",
    "result = ttest_1samp(x,10)\n",
    "print(result)\n",
    "# This result is for a 2 - tailed test so p-value must be halved to compare it with alpha in this case"
   ]
  },
  {
   "cell_type": "code",
   "execution_count": 15,
   "metadata": {},
   "outputs": [
    {
     "name": "stdout",
     "output_type": "stream",
     "text": [
      "Null hypothesis is accepted, thus mean ice cream sales are less than or equal to 10 ice creams per day\n"
     ]
    }
   ],
   "source": [
    "if (result[1]/2) <= alpha:\n",
    "    print('Null hypothesis is rejected, thus mean ice cream sales are greater than 10 ice creams per day')\n",
    "else:\n",
    "    print('Null hypothesis is accepted, thus mean ice cream sales are less than or equal to 10 ice creams per day')"
   ]
  },
  {
   "cell_type": "code",
   "execution_count": 17,
   "metadata": {},
   "outputs": [
    {
     "data": {
      "text/plain": [
       "0.35262102566795583"
      ]
     },
     "execution_count": 17,
     "metadata": {},
     "output_type": "execute_result"
    }
   ],
   "source": [
    "# Finding area to the left of t-value and degrees of freeedom are known\n",
    "# t = -0.384 (for the example above), n-1 = 19\n",
    "t.cdf(-0.384,19)"
   ]
  },
  {
   "cell_type": "code",
   "execution_count": 19,
   "metadata": {},
   "outputs": [
    {
     "name": "stdout",
     "output_type": "stream",
     "text": [
      "(1.286806739751111, 0.1981616572238455)\n"
     ]
    }
   ],
   "source": [
    "# Police claim example - P = 0.5, sample size = 120, alpha = 0.05, count = 67\n",
    "# H0: p = 0.5, Ha: p != 0.5 (2-tailed test)\n",
    "count, sample_size, P = 67,120,0.5\n",
    "result = proportions_ztest(count, sample_size,P)\n",
    "# The test statistic(z value) is the first parameter, total area(on both sides) is the value of second parameter\n",
    "print(result)"
   ]
  },
  {
   "cell_type": "code",
   "execution_count": 20,
   "metadata": {},
   "outputs": [
    {
     "name": "stdout",
     "output_type": "stream",
     "text": [
      "Null hypothesis is accepted, thus 50% of all accidents are caused by drunk driving\n"
     ]
    }
   ],
   "source": [
    "if (result[1]) <= alpha:\n",
    "    print('Null hypothesis is rejected, thus 50% of all accidents are not caused by drunk driving')\n",
    "else:\n",
    "    print('Null hypothesis is accepted, thus 50% of all accidents are caused by drunk driving')"
   ]
  },
  {
   "cell_type": "code",
   "execution_count": null,
   "metadata": {},
   "outputs": [],
   "source": []
  }
 ],
 "metadata": {
  "kernelspec": {
   "display_name": "Python 3",
   "language": "python",
   "name": "python3"
  },
  "language_info": {
   "codemirror_mode": {
    "name": "ipython",
    "version": 3
   },
   "file_extension": ".py",
   "mimetype": "text/x-python",
   "name": "python",
   "nbconvert_exporter": "python",
   "pygments_lexer": "ipython3",
   "version": "3.8.5"
  }
 },
 "nbformat": 4,
 "nbformat_minor": 4
}
