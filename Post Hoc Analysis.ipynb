{
 "cells": [
  {
   "cell_type": "code",
   "execution_count": 4,
   "metadata": {},
   "outputs": [],
   "source": [
    "import numpy as np\n",
    "import matplotlib.pyplot as plt\n",
    "import pandas as pd\n",
    "import statsmodels.api as sm\n",
    "from statsmodels.formula.api import ols"
   ]
  },
  {
   "cell_type": "markdown",
   "metadata": {},
   "source": [
    "### Tensile Strength Example\n",
    "#### Manual Solution (See code below for faster solution)\n",
    "df(SSTR/SSB) = 4-1 = 3(Four different concentrations/samples)\n",
    "\n",
    "df(SSE/SSW) = 4(6-1) = 20\n",
    "\n",
    "df(SST) = 4*6 - 1 = 23 = 20 + 3\n",
    "\n",
    "alpha = 0.01"
   ]
  },
  {
   "cell_type": "code",
   "execution_count": 5,
   "metadata": {},
   "outputs": [
    {
     "data": {
      "text/plain": [
       "{'whiskers': [<matplotlib.lines.Line2D at 0x2b444d95e80>,\n",
       "  <matplotlib.lines.Line2D at 0x2b444dae220>,\n",
       "  <matplotlib.lines.Line2D at 0x2b444dbb6d0>,\n",
       "  <matplotlib.lines.Line2D at 0x2b444dbba30>,\n",
       "  <matplotlib.lines.Line2D at 0x2b444dc6eb0>,\n",
       "  <matplotlib.lines.Line2D at 0x2b444dd2250>,\n",
       "  <matplotlib.lines.Line2D at 0x2b444ddd6d0>,\n",
       "  <matplotlib.lines.Line2D at 0x2b444ddda30>],\n",
       " 'caps': [<matplotlib.lines.Line2D at 0x2b444dae580>,\n",
       "  <matplotlib.lines.Line2D at 0x2b444dae8e0>,\n",
       "  <matplotlib.lines.Line2D at 0x2b444dbbd90>,\n",
       "  <matplotlib.lines.Line2D at 0x2b444dc6130>,\n",
       "  <matplotlib.lines.Line2D at 0x2b444dd25b0>,\n",
       "  <matplotlib.lines.Line2D at 0x2b444dd2910>,\n",
       "  <matplotlib.lines.Line2D at 0x2b444dddd90>,\n",
       "  <matplotlib.lines.Line2D at 0x2b444de8130>],\n",
       " 'boxes': [<matplotlib.lines.Line2D at 0x2b444d95b20>,\n",
       "  <matplotlib.lines.Line2D at 0x2b444dbb370>,\n",
       "  <matplotlib.lines.Line2D at 0x2b444dc6b50>,\n",
       "  <matplotlib.lines.Line2D at 0x2b444ddd370>],\n",
       " 'medians': [<matplotlib.lines.Line2D at 0x2b444daec40>,\n",
       "  <matplotlib.lines.Line2D at 0x2b444dc6490>,\n",
       "  <matplotlib.lines.Line2D at 0x2b444dd2c70>,\n",
       "  <matplotlib.lines.Line2D at 0x2b444de8490>],\n",
       " 'fliers': [<matplotlib.lines.Line2D at 0x2b444daefa0>,\n",
       "  <matplotlib.lines.Line2D at 0x2b444dc67f0>,\n",
       "  <matplotlib.lines.Line2D at 0x2b444dd2fd0>,\n",
       "  <matplotlib.lines.Line2D at 0x2b444de87f0>],\n",
       " 'means': []}"
      ]
     },
     "execution_count": 5,
     "metadata": {},
     "output_type": "execute_result"
    },
    {
     "data": {
      "image/png": "[encoded data removed]",
      "text/plain": [
       "<Figure size 720x360 with 1 Axes>"
      ]
     },
     "metadata": {
      "needs_background": "light"
     },
     "output_type": "display_data"
    }
   ],
   "source": [
    "alpha = 0.01\n",
    "five_percent = [7,8,15,11,9,10]\n",
    "ten_percent = [12,17,13,18,19,15]\n",
    "fifteen_percent = [14,18,19,17,16,18]\n",
    "twenty_percent = [19,25,22,23,18,20]\n",
    "\n",
    "fig,ax = plt.subplots(figsize = (10,5))\n",
    "ax.boxplot([five_percent,ten_percent,fifteen_percent,twenty_percent])"
   ]
  },
  {
   "cell_type": "code",
   "execution_count": 6,
   "metadata": {},
   "outputs": [
    {
     "data": {
      "text/plain": [
       "array([[ 7,  8, 15, 11,  9, 10],\n",
       "       [12, 17, 13, 18, 19, 15],\n",
       "       [14, 18, 19, 17, 16, 18],\n",
       "       [19, 25, 22, 23, 18, 20]])"
      ]
     },
     "execution_count": 6,
     "metadata": {},
     "output_type": "execute_result"
    }
   ],
   "source": [
    "data = np.array([five_percent,ten_percent,fifteen_percent,twenty_percent])\n",
    "data"
   ]
  },
  {
   "cell_type": "markdown",
   "metadata": {},
   "source": [
    "The problem with the above array is that the no. of columns is 6 but it should be equal to no. of samples i.e. 4"
   ]
  },
  {
   "cell_type": "code",
   "execution_count": 7,
   "metadata": {},
   "outputs": [
    {
     "data": {
      "text/plain": [
       "array([[ 7,  8, 15, 11],\n",
       "       [ 9, 10, 12, 17],\n",
       "       [13, 18, 19, 15],\n",
       "       [14, 18, 19, 17],\n",
       "       [16, 18, 19, 25],\n",
       "       [22, 23, 18, 20]])"
      ]
     },
     "execution_count": 7,
     "metadata": {},
     "output_type": "execute_result"
    }
   ],
   "source": [
    "data = np.reshape(data,(6,4))\n",
    "data"
   ]
  },
  {
   "cell_type": "code",
   "execution_count": 8,
   "metadata": {},
   "outputs": [
    {
     "name": "stdout",
     "output_type": "stream",
     "text": [
      "SST = 512.958, SSTr = 57.125, SSE = 455.833\n",
      "MSE = 22.792, MSTr = 19.042\n",
      "F value = 0.835\n"
     ]
    }
   ],
   "source": [
    "grand_mean = np.mean(data)\n",
    "SSE,SST,SSTr = 0,0,0\n",
    "df_treatment = 3\n",
    "df_error = 20\n",
    "# Calculate SSE - Iterate through all columns\n",
    "for col_iter in range(data.shape[1]):\n",
    "    # Fetch the next column\n",
    "    col = data[:,col_iter]\n",
    "    # Finding column mean\n",
    "    col_mean = col.mean()\n",
    "    # Sum of squares from mean\n",
    "    for data_point in col:\n",
    "        SSE += (data_point - col_mean) ** 2\n",
    "\n",
    "# Calculate SST\n",
    "for col_iter in range(data.shape[1]):\n",
    "    for row_iter in range(data.shape[0]):\n",
    "        data_point = data[row_iter][col_iter]\n",
    "        SST += (data_point - grand_mean) ** 2 \n",
    "SSTr = SST - SSE\n",
    "MSE = SSE / 20\n",
    "MSTr = SSTr / 3\n",
    "f_value = MSTr / MSE\n",
    "\n",
    "print(f'SST = {round(SST,3)}, SSTr = {round(SSTr,3)}, SSE = {round(SSE,3)}')\n",
    "print(f'MSE = {round(MSE,3)}, MSTr = {round(MSTr,3)}')\n",
    "print(f'F value = {round(f_value,3)}')"
   ]
  },
  {
   "cell_type": "code",
   "execution_count": 9,
   "metadata": {},
   "outputs": [],
   "source": [
    "from scipy.stats import f,f_oneway"
   ]
  },
  {
   "cell_type": "code",
   "execution_count": 10,
   "metadata": {},
   "outputs": [
    {
     "data": {
      "text/plain": [
       "0.8354661791590484"
      ]
     },
     "execution_count": 10,
     "metadata": {},
     "output_type": "execute_result"
    }
   ],
   "source": [
    "p_value = 1 - f.cdf(f_value,df_treatment,df_error)\n",
    "# Check if f_value is correct\n",
    "f.ppf(1 - p_value, dfn = 3, dfd = 20)"
   ]
  },
  {
   "cell_type": "code",
   "execution_count": 11,
   "metadata": {},
   "outputs": [
    {
     "name": "stdout",
     "output_type": "stream",
     "text": [
      "Null hypothesis is not rejected\n"
     ]
    }
   ],
   "source": [
    "# Testing using P-value method (One-tailed test)\n",
    "if p_value <= alpha:\n",
    "    print('Null hypothesis is rejected, thus hardwood concentration does affect tensile strength')\n",
    "else:\n",
    "    print('Null hypothesis is not rejected')"
   ]
  },
  {
   "cell_type": "code",
   "execution_count": 12,
   "metadata": {},
   "outputs": [
    {
     "name": "stdout",
     "output_type": "stream",
     "text": [
      "Null hypothesis is not rejected\n"
     ]
    }
   ],
   "source": [
    "# Testing using Critical value method (One-tailed test)\n",
    "critical_value = f.ppf(1-alpha,dfn = 3, dfd = 20)\n",
    "if f_value >= critical_value:\n",
    "    print('Null hypothesis is rejected, thus hardwood concentration does affect tensile strength')\n",
    "else:\n",
    "    print('Null hypothesis is not rejected')"
   ]
  },
  {
   "cell_type": "markdown",
   "metadata": {},
   "source": [
    "### Faster solution using Python"
   ]
  },
  {
   "cell_type": "code",
   "execution_count": 13,
   "metadata": {},
   "outputs": [
    {
     "data": {
      "text/plain": [
       "F_onewayResult(statistic=19.605206999573184, pvalue=3.5925782584743027e-06)"
      ]
     },
     "execution_count": 13,
     "metadata": {},
     "output_type": "execute_result"
    }
   ],
   "source": [
    "f_oneway(five_percent,ten_percent,fifteen_percent,twenty_percent)"
   ]
  },
  {
   "cell_type": "code",
   "execution_count": 14,
   "metadata": {},
   "outputs": [
    {
     "data": {
      "text/html": [
       "<div>\n",
       "<style scoped>\n",
       "    .dataframe tbody tr th:only-of-type {\n",
       "        vertical-align: middle;\n",
       "    }\n",
       "\n",
       "    .dataframe tbody tr th {\n",
       "        vertical-align: top;\n",
       "    }\n",
       "\n",
       "    .dataframe thead th {\n",
       "        text-align: right;\n",
       "    }\n",
       "</style>\n",
       "<table border=\"1\" class=\"dataframe\">\n",
       "  <thead>\n",
       "    <tr style=\"text-align: right;\">\n",
       "      <th></th>\n",
       "      <th>concentration5</th>\n",
       "      <th>concentration10</th>\n",
       "      <th>concentration15</th>\n",
       "      <th>concentration20</th>\n",
       "    </tr>\n",
       "  </thead>\n",
       "  <tbody>\n",
       "    <tr>\n",
       "      <th>0</th>\n",
       "      <td>7</td>\n",
       "      <td>12</td>\n",
       "      <td>14</td>\n",
       "      <td>19</td>\n",
       "    </tr>\n",
       "    <tr>\n",
       "      <th>1</th>\n",
       "      <td>8</td>\n",
       "      <td>17</td>\n",
       "      <td>18</td>\n",
       "      <td>25</td>\n",
       "    </tr>\n",
       "    <tr>\n",
       "      <th>2</th>\n",
       "      <td>15</td>\n",
       "      <td>13</td>\n",
       "      <td>19</td>\n",
       "      <td>22</td>\n",
       "    </tr>\n",
       "    <tr>\n",
       "      <th>3</th>\n",
       "      <td>11</td>\n",
       "      <td>18</td>\n",
       "      <td>17</td>\n",
       "      <td>23</td>\n",
       "    </tr>\n",
       "    <tr>\n",
       "      <th>4</th>\n",
       "      <td>9</td>\n",
       "      <td>19</td>\n",
       "      <td>16</td>\n",
       "      <td>18</td>\n",
       "    </tr>\n",
       "    <tr>\n",
       "      <th>5</th>\n",
       "      <td>10</td>\n",
       "      <td>15</td>\n",
       "      <td>18</td>\n",
       "      <td>20</td>\n",
       "    </tr>\n",
       "  </tbody>\n",
       "</table>\n",
       "</div>"
      ],
      "text/plain": [
       "   concentration5  concentration10  concentration15  concentration20\n",
       "0               7               12               14               19\n",
       "1               8               17               18               25\n",
       "2              15               13               19               22\n",
       "3              11               18               17               23\n",
       "4               9               19               16               18\n",
       "5              10               15               18               20"
      ]
     },
     "execution_count": 14,
     "metadata": {},
     "output_type": "execute_result"
    }
   ],
   "source": [
    "data = pd.read_excel('Week-5-Files/Tensile-strength-of-paper.xlsx')\n",
    "data.columns = ['concentration5','concentration10','concentration15','concentration20']\n",
    "data"
   ]
  },
  {
   "cell_type": "code",
   "execution_count": 15,
   "metadata": {},
   "outputs": [
    {
     "data": {
      "text/html": [
       "<div>\n",
       "<style scoped>\n",
       "    .dataframe tbody tr th:only-of-type {\n",
       "        vertical-align: middle;\n",
       "    }\n",
       "\n",
       "    .dataframe tbody tr th {\n",
       "        vertical-align: top;\n",
       "    }\n",
       "\n",
       "    .dataframe thead th {\n",
       "        text-align: right;\n",
       "    }\n",
       "</style>\n",
       "<table border=\"1\" class=\"dataframe\">\n",
       "  <thead>\n",
       "    <tr style=\"text-align: right;\">\n",
       "      <th></th>\n",
       "      <th>index</th>\n",
       "      <th>variable</th>\n",
       "      <th>value</th>\n",
       "    </tr>\n",
       "  </thead>\n",
       "  <tbody>\n",
       "    <tr>\n",
       "      <th>0</th>\n",
       "      <td>0</td>\n",
       "      <td>concentration5</td>\n",
       "      <td>7</td>\n",
       "    </tr>\n",
       "    <tr>\n",
       "      <th>1</th>\n",
       "      <td>1</td>\n",
       "      <td>concentration5</td>\n",
       "      <td>8</td>\n",
       "    </tr>\n",
       "    <tr>\n",
       "      <th>2</th>\n",
       "      <td>2</td>\n",
       "      <td>concentration5</td>\n",
       "      <td>15</td>\n",
       "    </tr>\n",
       "    <tr>\n",
       "      <th>3</th>\n",
       "      <td>3</td>\n",
       "      <td>concentration5</td>\n",
       "      <td>11</td>\n",
       "    </tr>\n",
       "    <tr>\n",
       "      <th>4</th>\n",
       "      <td>4</td>\n",
       "      <td>concentration5</td>\n",
       "      <td>9</td>\n",
       "    </tr>\n",
       "    <tr>\n",
       "      <th>5</th>\n",
       "      <td>5</td>\n",
       "      <td>concentration5</td>\n",
       "      <td>10</td>\n",
       "    </tr>\n",
       "    <tr>\n",
       "      <th>6</th>\n",
       "      <td>0</td>\n",
       "      <td>concentration10</td>\n",
       "      <td>12</td>\n",
       "    </tr>\n",
       "    <tr>\n",
       "      <th>7</th>\n",
       "      <td>1</td>\n",
       "      <td>concentration10</td>\n",
       "      <td>17</td>\n",
       "    </tr>\n",
       "    <tr>\n",
       "      <th>8</th>\n",
       "      <td>2</td>\n",
       "      <td>concentration10</td>\n",
       "      <td>13</td>\n",
       "    </tr>\n",
       "    <tr>\n",
       "      <th>9</th>\n",
       "      <td>3</td>\n",
       "      <td>concentration10</td>\n",
       "      <td>18</td>\n",
       "    </tr>\n",
       "    <tr>\n",
       "      <th>10</th>\n",
       "      <td>4</td>\n",
       "      <td>concentration10</td>\n",
       "      <td>19</td>\n",
       "    </tr>\n",
       "    <tr>\n",
       "      <th>11</th>\n",
       "      <td>5</td>\n",
       "      <td>concentration10</td>\n",
       "      <td>15</td>\n",
       "    </tr>\n",
       "    <tr>\n",
       "      <th>12</th>\n",
       "      <td>0</td>\n",
       "      <td>concentration15</td>\n",
       "      <td>14</td>\n",
       "    </tr>\n",
       "    <tr>\n",
       "      <th>13</th>\n",
       "      <td>1</td>\n",
       "      <td>concentration15</td>\n",
       "      <td>18</td>\n",
       "    </tr>\n",
       "    <tr>\n",
       "      <th>14</th>\n",
       "      <td>2</td>\n",
       "      <td>concentration15</td>\n",
       "      <td>19</td>\n",
       "    </tr>\n",
       "    <tr>\n",
       "      <th>15</th>\n",
       "      <td>3</td>\n",
       "      <td>concentration15</td>\n",
       "      <td>17</td>\n",
       "    </tr>\n",
       "    <tr>\n",
       "      <th>16</th>\n",
       "      <td>4</td>\n",
       "      <td>concentration15</td>\n",
       "      <td>16</td>\n",
       "    </tr>\n",
       "    <tr>\n",
       "      <th>17</th>\n",
       "      <td>5</td>\n",
       "      <td>concentration15</td>\n",
       "      <td>18</td>\n",
       "    </tr>\n",
       "    <tr>\n",
       "      <th>18</th>\n",
       "      <td>0</td>\n",
       "      <td>concentration20</td>\n",
       "      <td>19</td>\n",
       "    </tr>\n",
       "    <tr>\n",
       "      <th>19</th>\n",
       "      <td>1</td>\n",
       "      <td>concentration20</td>\n",
       "      <td>25</td>\n",
       "    </tr>\n",
       "    <tr>\n",
       "      <th>20</th>\n",
       "      <td>2</td>\n",
       "      <td>concentration20</td>\n",
       "      <td>22</td>\n",
       "    </tr>\n",
       "    <tr>\n",
       "      <th>21</th>\n",
       "      <td>3</td>\n",
       "      <td>concentration20</td>\n",
       "      <td>23</td>\n",
       "    </tr>\n",
       "    <tr>\n",
       "      <th>22</th>\n",
       "      <td>4</td>\n",
       "      <td>concentration20</td>\n",
       "      <td>18</td>\n",
       "    </tr>\n",
       "    <tr>\n",
       "      <th>23</th>\n",
       "      <td>5</td>\n",
       "      <td>concentration20</td>\n",
       "      <td>20</td>\n",
       "    </tr>\n",
       "  </tbody>\n",
       "</table>\n",
       "</div>"
      ],
      "text/plain": [
       "    index         variable  value\n",
       "0       0   concentration5      7\n",
       "1       1   concentration5      8\n",
       "2       2   concentration5     15\n",
       "3       3   concentration5     11\n",
       "4       4   concentration5      9\n",
       "5       5   concentration5     10\n",
       "6       0  concentration10     12\n",
       "7       1  concentration10     17\n",
       "8       2  concentration10     13\n",
       "9       3  concentration10     18\n",
       "10      4  concentration10     19\n",
       "11      5  concentration10     15\n",
       "12      0  concentration15     14\n",
       "13      1  concentration15     18\n",
       "14      2  concentration15     19\n",
       "15      3  concentration15     17\n",
       "16      4  concentration15     16\n",
       "17      5  concentration15     18\n",
       "18      0  concentration20     19\n",
       "19      1  concentration20     25\n",
       "20      2  concentration20     22\n",
       "21      3  concentration20     23\n",
       "22      4  concentration20     18\n",
       "23      5  concentration20     20"
      ]
     },
     "execution_count": 15,
     "metadata": {},
     "output_type": "execute_result"
    }
   ],
   "source": [
    "data_new = pd.melt(data.reset_index(),id_vars = ['index'],value_vars = ['concentration5','concentration10','concentration15','concentration20'])\n",
    "data_new"
   ]
  },
  {
   "cell_type": "code",
   "execution_count": 16,
   "metadata": {},
   "outputs": [
    {
     "data": {
      "text/html": [
       "<table class=\"simpletable\">\n",
       "<caption>OLS Regression Results</caption>\n",
       "<tr>\n",
       "  <th>Dep. Variable:</th>          <td>value</td>      <th>  R-squared:         </th> <td>   0.746</td>\n",
       "</tr>\n",
       "<tr>\n",
       "  <th>Model:</th>                   <td>OLS</td>       <th>  Adj. R-squared:    </th> <td>   0.708</td>\n",
       "</tr>\n",
       "<tr>\n",
       "  <th>Method:</th>             <td>Least Squares</td>  <th>  F-statistic:       </th> <td>   19.61</td>\n",
       "</tr>\n",
       "<tr>\n",
       "  <th>Date:</th>             <td>Mon, 21 Mar 2022</td> <th>  Prob (F-statistic):</th> <td>3.59e-06</td>\n",
       "</tr>\n",
       "<tr>\n",
       "  <th>Time:</th>                 <td>13:20:41</td>     <th>  Log-Likelihood:    </th> <td> -54.344</td>\n",
       "</tr>\n",
       "<tr>\n",
       "  <th>No. Observations:</th>      <td>    24</td>      <th>  AIC:               </th> <td>   116.7</td>\n",
       "</tr>\n",
       "<tr>\n",
       "  <th>Df Residuals:</th>          <td>    20</td>      <th>  BIC:               </th> <td>   121.4</td>\n",
       "</tr>\n",
       "<tr>\n",
       "  <th>Df Model:</th>              <td>     3</td>      <th>                     </th>     <td> </td>   \n",
       "</tr>\n",
       "<tr>\n",
       "  <th>Covariance Type:</th>      <td>nonrobust</td>    <th>                     </th>     <td> </td>   \n",
       "</tr>\n",
       "</table>\n",
       "<table class=\"simpletable\">\n",
       "<tr>\n",
       "                 <td></td>                   <th>coef</th>     <th>std err</th>      <th>t</th>      <th>P>|t|</th>  <th>[0.025</th>    <th>0.975]</th>  \n",
       "</tr>\n",
       "<tr>\n",
       "  <th>Intercept</th>                      <td>   15.6667</td> <td>    1.041</td> <td>   15.042</td> <td> 0.000</td> <td>   13.494</td> <td>   17.839</td>\n",
       "</tr>\n",
       "<tr>\n",
       "  <th>C(variable)[T.concentration15]</th> <td>    1.3333</td> <td>    1.473</td> <td>    0.905</td> <td> 0.376</td> <td>   -1.739</td> <td>    4.406</td>\n",
       "</tr>\n",
       "<tr>\n",
       "  <th>C(variable)[T.concentration20]</th> <td>    5.5000</td> <td>    1.473</td> <td>    3.734</td> <td> 0.001</td> <td>    2.428</td> <td>    8.572</td>\n",
       "</tr>\n",
       "<tr>\n",
       "  <th>C(variable)[T.concentration5]</th>  <td>   -5.6667</td> <td>    1.473</td> <td>   -3.847</td> <td> 0.001</td> <td>   -8.739</td> <td>   -2.594</td>\n",
       "</tr>\n",
       "</table>\n",
       "<table class=\"simpletable\">\n",
       "<tr>\n",
       "  <th>Omnibus:</th>       <td> 0.929</td> <th>  Durbin-Watson:     </th> <td>   2.181</td>\n",
       "</tr>\n",
       "<tr>\n",
       "  <th>Prob(Omnibus):</th> <td> 0.628</td> <th>  Jarque-Bera (JB):  </th> <td>   0.861</td>\n",
       "</tr>\n",
       "<tr>\n",
       "  <th>Skew:</th>          <td> 0.248</td> <th>  Prob(JB):          </th> <td>   0.650</td>\n",
       "</tr>\n",
       "<tr>\n",
       "  <th>Kurtosis:</th>      <td> 2.215</td> <th>  Cond. No.          </th> <td>    4.79</td>\n",
       "</tr>\n",
       "</table><br/><br/>Notes:<br/>[1] Standard Errors assume that the covariance matrix of the errors is correctly specified."
      ],
      "text/plain": [
       "<class 'statsmodels.iolib.summary.Summary'>\n",
       "\"\"\"\n",
       "                            OLS Regression Results                            \n",
       "==============================================================================\n",
       "Dep. Variable:                  value   R-squared:                       0.746\n",
       "Model:                            OLS   Adj. R-squared:                  0.708\n",
       "Method:                 Least Squares   F-statistic:                     19.61\n",
       "Date:                Mon, 21 Mar 2022   Prob (F-statistic):           3.59e-06\n",
       "Time:                        13:20:41   Log-Likelihood:                -54.344\n",
       "No. Observations:                  24   AIC:                             116.7\n",
       "Df Residuals:                      20   BIC:                             121.4\n",
       "Df Model:                           3                                         \n",
       "Covariance Type:            nonrobust                                         \n",
       "==================================================================================================\n",
       "                                     coef    std err          t      P>|t|      [0.025      0.975]\n",
       "--------------------------------------------------------------------------------------------------\n",
       "Intercept                         15.6667      1.041     15.042      0.000      13.494      17.839\n",
       "C(variable)[T.concentration15]     1.3333      1.473      0.905      0.376      -1.739       4.406\n",
       "C(variable)[T.concentration20]     5.5000      1.473      3.734      0.001       2.428       8.572\n",
       "C(variable)[T.concentration5]     -5.6667      1.473     -3.847      0.001      -8.739      -2.594\n",
       "==============================================================================\n",
       "Omnibus:                        0.929   Durbin-Watson:                   2.181\n",
       "Prob(Omnibus):                  0.628   Jarque-Bera (JB):                0.861\n",
       "Skew:                           0.248   Prob(JB):                        0.650\n",
       "Kurtosis:                       2.215   Cond. No.                         4.79\n",
       "==============================================================================\n",
       "\n",
       "Notes:\n",
       "[1] Standard Errors assume that the covariance matrix of the errors is correctly specified.\n",
       "\"\"\""
      ]
     },
     "execution_count": 16,
     "metadata": {},
     "output_type": "execute_result"
    }
   ],
   "source": [
    "model = ols('value ~ C(variable)',data = data_new).fit()\n",
    "model.summary()"
   ]
  },
  {
   "cell_type": "code",
   "execution_count": 17,
   "metadata": {},
   "outputs": [
    {
     "data": {
      "text/html": [
       "<div>\n",
       "<style scoped>\n",
       "    .dataframe tbody tr th:only-of-type {\n",
       "        vertical-align: middle;\n",
       "    }\n",
       "\n",
       "    .dataframe tbody tr th {\n",
       "        vertical-align: top;\n",
       "    }\n",
       "\n",
       "    .dataframe thead th {\n",
       "        text-align: right;\n",
       "    }\n",
       "</style>\n",
       "<table border=\"1\" class=\"dataframe\">\n",
       "  <thead>\n",
       "    <tr style=\"text-align: right;\">\n",
       "      <th></th>\n",
       "      <th>df</th>\n",
       "      <th>sum_sq</th>\n",
       "      <th>mean_sq</th>\n",
       "      <th>F</th>\n",
       "      <th>PR(&gt;F)</th>\n",
       "    </tr>\n",
       "  </thead>\n",
       "  <tbody>\n",
       "    <tr>\n",
       "      <th>C(variable)</th>\n",
       "      <td>3.0</td>\n",
       "      <td>382.791667</td>\n",
       "      <td>127.597222</td>\n",
       "      <td>19.605207</td>\n",
       "      <td>0.000004</td>\n",
       "    </tr>\n",
       "    <tr>\n",
       "      <th>Residual</th>\n",
       "      <td>20.0</td>\n",
       "      <td>130.166667</td>\n",
       "      <td>6.508333</td>\n",
       "      <td>NaN</td>\n",
       "      <td>NaN</td>\n",
       "    </tr>\n",
       "  </tbody>\n",
       "</table>\n",
       "</div>"
      ],
      "text/plain": [
       "               df      sum_sq     mean_sq          F    PR(>F)\n",
       "C(variable)   3.0  382.791667  127.597222  19.605207  0.000004\n",
       "Residual     20.0  130.166667    6.508333        NaN       NaN"
      ]
     },
     "execution_count": 17,
     "metadata": {},
     "output_type": "execute_result"
    }
   ],
   "source": [
    "anova_table = sm.stats.anova_lm(model,typ = 1)\n",
    "anova_table"
   ]
  },
  {
   "cell_type": "markdown",
   "metadata": {},
   "source": [
    "Note: Residual row - SSW/SSE <br>\n",
    "      C(variable) row - SSB/SSTr <br>\n",
    "      PR - P-value"
   ]
  },
  {
   "cell_type": "markdown",
   "metadata": {},
   "source": [
    "## Post - Hoc Analysis"
   ]
  },
  {
   "cell_type": "markdown",
   "metadata": {},
   "source": [
    "### Least Significant Differences (LSD) Method"
   ]
  },
  {
   "cell_type": "code",
   "execution_count": 18,
   "metadata": {},
   "outputs": [],
   "source": [
    "from scipy.stats import t"
   ]
  },
  {
   "cell_type": "code",
   "execution_count": 19,
   "metadata": {},
   "outputs": [
    {
     "data": {
      "text/plain": [
       "3.0724218802123273"
      ]
     },
     "execution_count": 19,
     "metadata": {},
     "output_type": "execute_result"
    }
   ],
   "source": [
    "t_value = -t.ppf(0.025,20)\n",
    "MSE = 6.50833\n",
    "num_obs = 6\n",
    "lsd = t_value *((2* MSE/num_obs) ** 0.5)\n",
    "lsd"
   ]
  },
  {
   "cell_type": "code",
   "execution_count": 20,
   "metadata": {},
   "outputs": [],
   "source": [
    "# Calculate the mean of all concentrations\n",
    "y1 = data['concentration5'].mean()\n",
    "y2 = data['concentration10'].mean()\n",
    "y3 = data['concentration15'].mean()\n",
    "y4 = data['concentration20'].mean()"
   ]
  },
  {
   "cell_type": "markdown",
   "metadata": {},
   "source": [
    "Compare the pairwise means with LSD to decide whether they can be considered equal or not. <br>\n",
    "\n",
    "Ex - abs(y2 - y1) = 5.67 > 3.07 i.e. mu1 and mu2 are unequal.\n",
    "\n",
    "Thus 5% and 10% hardwood concentrations produce different tensile strength of paper. This process is repeated for all pairwise means."
   ]
  },
  {
   "cell_type": "markdown",
   "metadata": {},
   "source": [
    "### Tukey - Kramer Test"
   ]
  },
  {
   "cell_type": "code",
   "execution_count": 21,
   "metadata": {},
   "outputs": [],
   "source": [
    "from statsmodels.stats.multicomp import pairwise_tukeyhsd\n",
    "from statsmodels.stats.multicomp import MultiComparison"
   ]
  },
  {
   "cell_type": "code",
   "execution_count": 23,
   "metadata": {},
   "outputs": [
    {
     "data": {
      "text/plain": [
       "<statsmodels.sandbox.stats.multicomp.MultiComparison at 0x2b444d7e370>"
      ]
     },
     "execution_count": 23,
     "metadata": {},
     "output_type": "execute_result"
    }
   ],
   "source": [
    "mc = MultiComparison(data_new['value'],data_new['variable'])\n",
    "mc"
   ]
  },
  {
   "cell_type": "code",
   "execution_count": 27,
   "metadata": {},
   "outputs": [
    {
     "data": {
      "text/html": [
       "<table class=\"simpletable\">\n",
       "<caption>Multiple Comparison of Means - Tukey HSD, FWER=0.05</caption>\n",
       "<tr>\n",
       "      <th>group1</th>          <th>group2</th>      <th>meandiff</th>  <th>p-adj</th>   <th>lower</th>   <th>upper</th>  <th>reject</th>\n",
       "</tr>\n",
       "<tr>\n",
       "  <td>concentration10</td> <td>concentration15</td>  <td>1.3333</td>  <td>0.7827</td>  <td>-2.7894</td> <td>5.4561</td>   <td>False</td>\n",
       "</tr>\n",
       "<tr>\n",
       "  <td>concentration10</td> <td>concentration20</td>    <td>5.5</td>   <td>0.0066</td>  <td>1.3773</td>  <td>9.6227</td>   <td>True</td> \n",
       "</tr>\n",
       "<tr>\n",
       "  <td>concentration10</td> <td>concentration5</td>   <td>-5.6667</td> <td>0.0051</td>  <td>-9.7894</td> <td>-1.5439</td>  <td>True</td> \n",
       "</tr>\n",
       "<tr>\n",
       "  <td>concentration15</td> <td>concentration20</td>  <td>4.1667</td>   <td>0.047</td>  <td>0.0439</td>  <td>8.2894</td>   <td>True</td> \n",
       "</tr>\n",
       "<tr>\n",
       "  <td>concentration15</td> <td>concentration5</td>    <td>-7.0</td>    <td>0.001</td> <td>-11.1227</td> <td>-2.8773</td>  <td>True</td> \n",
       "</tr>\n",
       "<tr>\n",
       "  <td>concentration20</td> <td>concentration5</td>  <td>-11.1667</td>  <td>0.001</td> <td>-15.2894</td> <td>-7.0439</td>  <td>True</td> \n",
       "</tr>\n",
       "</table>"
      ],
      "text/plain": [
       "<class 'statsmodels.iolib.table.SimpleTable'>"
      ]
     },
     "execution_count": 27,
     "metadata": {},
     "output_type": "execute_result"
    }
   ],
   "source": [
    "mcresult= mc.tukeyhsd(0.05)\n",
    "mcresult.summary()"
   ]
  },
  {
   "cell_type": "code",
   "execution_count": null,
   "metadata": {},
   "outputs": [],
   "source": []
  }
 ],
 "metadata": {
  "kernelspec": {
   "display_name": "Python 3",
   "language": "python",
   "name": "python3"
  },
  "language_info": {
   "codemirror_mode": {
    "name": "ipython",
    "version": 3
   },
   "file_extension": ".py",
   "mimetype": "text/x-python",
   "name": "python",
   "nbconvert_exporter": "python",
   "pygments_lexer": "ipython3",
   "version": "3.8.5"
  }
 },
 "nbformat": 4,
 "nbformat_minor": 4
}
