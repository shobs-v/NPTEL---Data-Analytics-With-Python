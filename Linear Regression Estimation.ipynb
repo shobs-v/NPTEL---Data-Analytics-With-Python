{
 "cells": [
  {
   "cell_type": "code",
   "execution_count": 45,
   "metadata": {},
   "outputs": [],
   "source": [
    "import numpy as np\n",
    "import pandas as pd\n",
    "import matplotlib.pyplot as plt\n",
    "from sklearn.linear_model import LinearRegression\n",
    "import statsmodels.formula.api as sm\n",
    "import statsmodels.api as s"
   ]
  },
  {
   "cell_type": "code",
   "execution_count": 2,
   "metadata": {},
   "outputs": [
    {
     "data": {
      "text/html": [
       "<div>\n",
       "<style scoped>\n",
       "    .dataframe tbody tr th:only-of-type {\n",
       "        vertical-align: middle;\n",
       "    }\n",
       "\n",
       "    .dataframe tbody tr th {\n",
       "        vertical-align: top;\n",
       "    }\n",
       "\n",
       "    .dataframe thead th {\n",
       "        text-align: right;\n",
       "    }\n",
       "</style>\n",
       "<table border=\"1\" class=\"dataframe\">\n",
       "  <thead>\n",
       "    <tr style=\"text-align: right;\">\n",
       "      <th></th>\n",
       "      <th>Restaurant</th>\n",
       "      <th>Student_Population</th>\n",
       "      <th>Sales</th>\n",
       "    </tr>\n",
       "  </thead>\n",
       "  <tbody>\n",
       "    <tr>\n",
       "      <th>0</th>\n",
       "      <td>1</td>\n",
       "      <td>2</td>\n",
       "      <td>58</td>\n",
       "    </tr>\n",
       "    <tr>\n",
       "      <th>1</th>\n",
       "      <td>2</td>\n",
       "      <td>6</td>\n",
       "      <td>105</td>\n",
       "    </tr>\n",
       "    <tr>\n",
       "      <th>2</th>\n",
       "      <td>3</td>\n",
       "      <td>8</td>\n",
       "      <td>88</td>\n",
       "    </tr>\n",
       "    <tr>\n",
       "      <th>3</th>\n",
       "      <td>4</td>\n",
       "      <td>8</td>\n",
       "      <td>118</td>\n",
       "    </tr>\n",
       "    <tr>\n",
       "      <th>4</th>\n",
       "      <td>5</td>\n",
       "      <td>12</td>\n",
       "      <td>117</td>\n",
       "    </tr>\n",
       "    <tr>\n",
       "      <th>5</th>\n",
       "      <td>6</td>\n",
       "      <td>16</td>\n",
       "      <td>137</td>\n",
       "    </tr>\n",
       "    <tr>\n",
       "      <th>6</th>\n",
       "      <td>7</td>\n",
       "      <td>20</td>\n",
       "      <td>157</td>\n",
       "    </tr>\n",
       "    <tr>\n",
       "      <th>7</th>\n",
       "      <td>8</td>\n",
       "      <td>20</td>\n",
       "      <td>169</td>\n",
       "    </tr>\n",
       "    <tr>\n",
       "      <th>8</th>\n",
       "      <td>9</td>\n",
       "      <td>22</td>\n",
       "      <td>149</td>\n",
       "    </tr>\n",
       "    <tr>\n",
       "      <th>9</th>\n",
       "      <td>10</td>\n",
       "      <td>26</td>\n",
       "      <td>202</td>\n",
       "    </tr>\n",
       "  </tbody>\n",
       "</table>\n",
       "</div>"
      ],
      "text/plain": [
       "   Restaurant  Student_Population  Sales\n",
       "0           1                   2     58\n",
       "1           2                   6    105\n",
       "2           3                   8     88\n",
       "3           4                   8    118\n",
       "4           5                  12    117\n",
       "5           6                  16    137\n",
       "6           7                  20    157\n",
       "7           8                  20    169\n",
       "8           9                  22    149\n",
       "9          10                  26    202"
      ]
     },
     "execution_count": 2,
     "metadata": {},
     "output_type": "execute_result"
    }
   ],
   "source": [
    "restaurant_data = pd.read_excel('Week-7-Files/lrm.xlsx')\n",
    "restaurant_data"
   ]
  },
  {
   "cell_type": "code",
   "execution_count": 39,
   "metadata": {},
   "outputs": [
    {
     "data": {
      "text/plain": [
       "[Text(0, 0.5, 'Quarterly Sales (In Dollars)'),\n",
       " Text(0.5, 0, 'Student Population (In Thousands)')]"
      ]
     },
     "execution_count": 39,
     "metadata": {},
     "output_type": "execute_result"
    },
    {
     "data": {
      "image/png": "[encoded data removed]",
      "text/plain": [
       "<Figure size 432x288 with 1 Axes>"
      ]
     },
     "metadata": {
      "needs_background": "light"
     },
     "output_type": "display_data"
    }
   ],
   "source": [
    "fig,axes = plt.subplots()\n",
    "axes.scatter(restaurant_data['Student_Population'],restaurant_data.Sales, color = 'green')\n",
    "axes.set(ylabel = 'Quarterly Sales (In Dollars)',xlabel = 'Student Population (In Thousands)')"
   ]
  },
  {
   "cell_type": "code",
   "execution_count": 10,
   "metadata": {},
   "outputs": [],
   "source": [
    "from sklearn.model_selection import train_test_split"
   ]
  },
  {
   "cell_type": "markdown",
   "metadata": {},
   "source": [
    "Since data has few data points, train_test_split is not done and entire data is used for training the model"
   ]
  },
  {
   "cell_type": "code",
   "execution_count": 13,
   "metadata": {},
   "outputs": [],
   "source": [
    "X = restaurant_data.Student_Population.values.reshape(-1,1)\n",
    "y = restaurant_data.Sales.values.reshape(-1,1)\n",
    "# X_train,X_test,y_train,y_test = train_test_split(X,y,test_size = 0.2,random_state = 88)"
   ]
  },
  {
   "cell_type": "code",
   "execution_count": 17,
   "metadata": {},
   "outputs": [
    {
     "name": "stdout",
     "output_type": "stream",
     "text": [
      "Y intercept for linear regression: [60.]\n"
     ]
    }
   ],
   "source": [
    "reg = LinearRegression()\n",
    "model = reg.fit(X,y)\n",
    "print(f'Y intercept for linear regression: {model.intercept_}')"
   ]
  },
  {
   "cell_type": "code",
   "execution_count": 18,
   "metadata": {},
   "outputs": [
    {
     "name": "stdout",
     "output_type": "stream",
     "text": [
      "Slope for linear regression: [[5.]]\n"
     ]
    }
   ],
   "source": [
    "print(f'Slope for linear regression: {model.coef_}')"
   ]
  },
  {
   "cell_type": "code",
   "execution_count": 19,
   "metadata": {},
   "outputs": [
    {
     "data": {
      "text/plain": [
       "LinearRegression()"
      ]
     },
     "execution_count": 19,
     "metadata": {},
     "output_type": "execute_result"
    }
   ],
   "source": [
    "model"
   ]
  },
  {
   "cell_type": "code",
   "execution_count": 30,
   "metadata": {},
   "outputs": [],
   "source": [
    "y_pred = model.predict(X)"
   ]
  },
  {
   "cell_type": "code",
   "execution_count": 38,
   "metadata": {},
   "outputs": [
    {
     "data": {
      "text/plain": [
       "[Text(0, 0.5, 'Quarterly Sales (In Thousand Dollars)'),\n",
       " Text(0.5, 0, 'Student Population (In Thousands)')]"
      ]
     },
     "execution_count": 38,
     "metadata": {},
     "output_type": "execute_result"
    },
    {
     "data": {
      "image/png": "[encoded data removed]",
      "text/plain": [
       "<Figure size 432x288 with 1 Axes>"
      ]
     },
     "metadata": {
      "needs_background": "light"
     },
     "output_type": "display_data"
    }
   ],
   "source": [
    "fig,axes = plt.subplots()\n",
    "axes.scatter(restaurant_data['Student_Population'],restaurant_data.Sales, color = 'green')\n",
    "axes.plot(X,y_pred,color = 'blue')\n",
    "axes.set(ylabel = 'Quarterly Sales (In Thousand Dollars)',xlabel = 'Student Population (In Thousands)')"
   ]
  },
  {
   "cell_type": "markdown",
   "metadata": {},
   "source": [
    "**Note:** The point estimate of an individual value of y is the **same** as the point estimate for the mean value of y.\n",
    "\n",
    "Thus, the **predicted quarterly sales for an individual restaurant with 10,000 students = estimated mean quarterly sales of all restaurants with 10,000 students = 110,000 dollars**"
   ]
  },
  {
   "cell_type": "code",
   "execution_count": 37,
   "metadata": {},
   "outputs": [
    {
     "data": {
      "text/plain": [
       "array([[110.]])"
      ]
     },
     "execution_count": 37,
     "metadata": {},
     "output_type": "execute_result"
    }
   ],
   "source": [
    "reg.predict([[10]])"
   ]
  },
  {
   "cell_type": "code",
   "execution_count": 41,
   "metadata": {},
   "outputs": [],
   "source": [
    "import seaborn as sns"
   ]
  },
  {
   "cell_type": "code",
   "execution_count": 42,
   "metadata": {},
   "outputs": [
    {
     "name": "stderr",
     "output_type": "stream",
     "text": [
      "C:\\Anaconda\\lib\\site-packages\\seaborn\\_decorators.py:36: FutureWarning: Pass the following variables as keyword args: x, y. From version 0.12, the only valid positional argument will be `data`, and passing other arguments without an explicit keyword will result in an error or misinterpretation.\n",
      "  warnings.warn(\n"
     ]
    },
    {
     "data": {
      "text/plain": [
       "<matplotlib.collections.PathCollection at 0x1cdfdb71ee0>"
      ]
     },
     "execution_count": 42,
     "metadata": {},
     "output_type": "execute_result"
    },
    {
     "data": {
      "image/png": "[encoded data removed]",
      "text/plain": [
       "<Figure size 432x288 with 1 Axes>"
      ]
     },
     "metadata": {
      "needs_background": "light"
     },
     "output_type": "display_data"
    }
   ],
   "source": [
    "# Another way of plotting regression lines\n",
    "x = restaurant_data['Student_Population']\n",
    "y = restaurant_data['Sales']\n",
    "sns.regplot(x,y,fit_reg=True)\n",
    "plt.scatter(np.mean(x),np.mean(y),color = 'green')"
   ]
  },
  {
   "cell_type": "markdown",
   "metadata": {},
   "source": [
    "The shaded area represents the **estimated confidence interval for the mean value of y i.e. E(y) for the corresponding x value**."
   ]
  },
  {
   "cell_type": "markdown",
   "metadata": {},
   "source": [
    "## Prediction Interval"
   ]
  },
  {
   "cell_type": "code",
   "execution_count": 43,
   "metadata": {},
   "outputs": [],
   "source": [
    "from statsmodels.stats.outliers_influence import summary_table"
   ]
  },
  {
   "cell_type": "markdown",
   "metadata": {},
   "source": [
    "### **Note:** \n",
    "### * OLS(All caps) located inside 's' is used for summary table and confidence interval estimation\n",
    "### * ols(all small) located inside 'sm' is used for ANOVA and Residual Analysis"
   ]
  },
  {
   "cell_type": "code",
   "execution_count": 49,
   "metadata": {},
   "outputs": [
    {
     "data": {
      "text/html": [
       "<table class=\"simpletable\">\n",
       "<caption>OLS Regression Results</caption>\n",
       "<tr>\n",
       "  <th>Dep. Variable:</th>          <td>Sales</td>      <th>  R-squared:         </th> <td>   0.903</td>\n",
       "</tr>\n",
       "<tr>\n",
       "  <th>Model:</th>                   <td>OLS</td>       <th>  Adj. R-squared:    </th> <td>   0.891</td>\n",
       "</tr>\n",
       "<tr>\n",
       "  <th>Method:</th>             <td>Least Squares</td>  <th>  F-statistic:       </th> <td>   74.25</td>\n",
       "</tr>\n",
       "<tr>\n",
       "  <th>Date:</th>             <td>Thu, 07 Apr 2022</td> <th>  Prob (F-statistic):</th> <td>2.55e-05</td>\n",
       "</tr>\n",
       "<tr>\n",
       "  <th>Time:</th>                 <td>00:32:04</td>     <th>  Log-Likelihood:    </th> <td> -39.342</td>\n",
       "</tr>\n",
       "<tr>\n",
       "  <th>No. Observations:</th>      <td>    10</td>      <th>  AIC:               </th> <td>   82.68</td>\n",
       "</tr>\n",
       "<tr>\n",
       "  <th>Df Residuals:</th>          <td>     8</td>      <th>  BIC:               </th> <td>   83.29</td>\n",
       "</tr>\n",
       "<tr>\n",
       "  <th>Df Model:</th>              <td>     1</td>      <th>                     </th>     <td> </td>   \n",
       "</tr>\n",
       "<tr>\n",
       "  <th>Covariance Type:</th>      <td>nonrobust</td>    <th>                     </th>     <td> </td>   \n",
       "</tr>\n",
       "</table>\n",
       "<table class=\"simpletable\">\n",
       "<tr>\n",
       "           <td></td>             <th>coef</th>     <th>std err</th>      <th>t</th>      <th>P>|t|</th>  <th>[0.025</th>    <th>0.975]</th>  \n",
       "</tr>\n",
       "<tr>\n",
       "  <th>const</th>              <td>   60.0000</td> <td>    9.226</td> <td>    6.503</td> <td> 0.000</td> <td>   38.725</td> <td>   81.275</td>\n",
       "</tr>\n",
       "<tr>\n",
       "  <th>Student_Population</th> <td>    5.0000</td> <td>    0.580</td> <td>    8.617</td> <td> 0.000</td> <td>    3.662</td> <td>    6.338</td>\n",
       "</tr>\n",
       "</table>\n",
       "<table class=\"simpletable\">\n",
       "<tr>\n",
       "  <th>Omnibus:</th>       <td> 0.928</td> <th>  Durbin-Watson:     </th> <td>   3.224</td>\n",
       "</tr>\n",
       "<tr>\n",
       "  <th>Prob(Omnibus):</th> <td> 0.629</td> <th>  Jarque-Bera (JB):  </th> <td>   0.616</td>\n",
       "</tr>\n",
       "<tr>\n",
       "  <th>Skew:</th>          <td>-0.060</td> <th>  Prob(JB):          </th> <td>   0.735</td>\n",
       "</tr>\n",
       "<tr>\n",
       "  <th>Kurtosis:</th>      <td> 1.790</td> <th>  Cond. No.          </th> <td>    33.6</td>\n",
       "</tr>\n",
       "</table><br/><br/>Notes:<br/>[1] Standard Errors assume that the covariance matrix of the errors is correctly specified."
      ],
      "text/plain": [
       "<class 'statsmodels.iolib.summary.Summary'>\n",
       "\"\"\"\n",
       "                            OLS Regression Results                            \n",
       "==============================================================================\n",
       "Dep. Variable:                  Sales   R-squared:                       0.903\n",
       "Model:                            OLS   Adj. R-squared:                  0.891\n",
       "Method:                 Least Squares   F-statistic:                     74.25\n",
       "Date:                Thu, 07 Apr 2022   Prob (F-statistic):           2.55e-05\n",
       "Time:                        00:32:04   Log-Likelihood:                -39.342\n",
       "No. Observations:                  10   AIC:                             82.68\n",
       "Df Residuals:                       8   BIC:                             83.29\n",
       "Df Model:                           1                                         \n",
       "Covariance Type:            nonrobust                                         \n",
       "======================================================================================\n",
       "                         coef    std err          t      P>|t|      [0.025      0.975]\n",
       "--------------------------------------------------------------------------------------\n",
       "const                 60.0000      9.226      6.503      0.000      38.725      81.275\n",
       "Student_Population     5.0000      0.580      8.617      0.000       3.662       6.338\n",
       "==============================================================================\n",
       "Omnibus:                        0.928   Durbin-Watson:                   3.224\n",
       "Prob(Omnibus):                  0.629   Jarque-Bera (JB):                0.616\n",
       "Skew:                          -0.060   Prob(JB):                        0.735\n",
       "Kurtosis:                       1.790   Cond. No.                         33.6\n",
       "==============================================================================\n",
       "\n",
       "Notes:\n",
       "[1] Standard Errors assume that the covariance matrix of the errors is correctly specified.\n",
       "\"\"\""
      ]
     },
     "execution_count": 49,
     "metadata": {},
     "output_type": "execute_result"
    }
   ],
   "source": [
    "y = restaurant_data['Sales']\n",
    "X = s.add_constant(restaurant_data['Student_Population'])\n",
    "model1 = s.OLS(y,X).fit()\n",
    "model1.summary()"
   ]
  },
  {
   "cell_type": "code",
   "execution_count": 50,
   "metadata": {},
   "outputs": [],
   "source": [
    "st,data1,ss2 = summary_table(model1,alpha = 0.05)"
   ]
  },
  {
   "cell_type": "code",
   "execution_count": 51,
   "metadata": {},
   "outputs": [
    {
     "data": {
      "text/html": [
       "<table class=\"simpletable\">\n",
       "<tr>\n",
       "   <th>Obs</th>   <th>Dep Var</th>       <th>Predicted</th>          <th>Std Error</th>           <th>Mean ci</th>            <th>Mean ci</th>          <th>Predict ci</th>         <th>Predict ci</th>          <th>Residual</th>            <th>Std Error</th>            <th>Student</th>              <th>Cook's</th>        \n",
       "</tr>\n",
       "<tr>\n",
       "    <th></th>   <th>Population</th>        <th>Value</th>          <th>Mean Predict</th>          <th>95% low</th>            <th>95% upp</th>            <th>95% low</th>            <th>95% upp</th>               <th></th>                <th>Residual</th>            <th>Residual</th>                 <th>D</th>          \n",
       "</tr>\n",
       "<tr>\n",
       "   <td>1.0</td>    <td>58.0</td>     <td>69.99999999999996</td>  <td>8.222585693865266</td> <td>51.038683389280415</td>  <td>88.9613166107195</td>   <td>32.89834154784006</td> <td>107.10165845215985</td> <td>-11.999999999999957</td> <td>11.119311332409136</td>  <td>-1.0792035263032795</td>  <td>0.3184474325136641</td>  \n",
       "</tr>\n",
       "<tr>\n",
       "   <td>2.0</td>    <td>105.0</td>    <td>89.99999999999997</td>  <td>6.377640298311583</td>   <td>75.293135100338</td>  <td>104.70686489966194</td>  <td>54.88172260110569</td> <td>125.11827739889425</td> <td>15.000000000000028</td>  <td>12.270929232350424</td>  <td>1.2224013125635858</td>   <td>0.2018193294387599</td>  \n",
       "</tr>\n",
       "<tr>\n",
       "   <td>3.0</td>    <td>88.0</td>     <td>99.99999999999997</td>  <td>5.589854995725687</td>  <td>87.1097712656196</td>  <td>112.89022873438034</td>  <td>65.60291394444252</td> <td>134.39708605555742</td> <td>-11.999999999999972</td> <td>12.649249824663935</td>  <td>-0.9486728593660919</td>  <td>0.08787685396914899</td> \n",
       "</tr>\n",
       "<tr>\n",
       "   <td>4.0</td>    <td>118.0</td>    <td>99.99999999999997</td>  <td>5.589854995725687</td>  <td>87.1097712656196</td>  <td>112.89022873438034</td>  <td>65.60291394444252</td> <td>134.39708605555742</td>  <td>18.00000000000003</td>  <td>12.649249824663935</td>  <td>1.4230092890491437</td>   <td>0.1977229214305868</td>  \n",
       "</tr>\n",
       "<tr>\n",
       "   <td>5.0</td>    <td>117.0</td>   <td>119.99999999999997</td>  <td>4.524580752502433</td> <td>109.56629807543696</td>  <td>130.433701924563</td>   <td>86.44610800310326</td> <td>153.55389199689668</td> <td>-2.9999999999999716</td> <td>13.068212158290226</td>  <td>-0.2295646844160567</td> <td>0.0031586717422392115</td>\n",
       "</tr>\n",
       "<tr>\n",
       "   <td>6.0</td>    <td>137.0</td>          <td>140.0</td>        <td>4.524580752502434</td> <td>129.56629807543698</td> <td>150.43370192456302</td> <td>106.44610800310329</td>  <td>173.5538919968967</td>        <td>-3.0</td>         <td>13.068212158290226</td>  <td>-0.2295646844160589</td> <td>0.0031586717422392727</td>\n",
       "</tr>\n",
       "<tr>\n",
       "   <td>7.0</td>    <td>157.0</td>          <td>160.0</td>       <td>5.5898549957256884</td> <td>147.10977126561963</td> <td>172.89022873438037</td> <td>125.60291394444255</td> <td>194.39708605555745</td>        <td>-3.0</td>         <td>12.649249824663935</td> <td>-0.23716821484152356</td> <td>0.005492303373071842</td> \n",
       "</tr>\n",
       "<tr>\n",
       "   <td>8.0</td>    <td>169.0</td>          <td>160.0</td>       <td>5.5898549957256884</td> <td>147.10977126561963</td> <td>172.89022873438037</td> <td>125.60291394444255</td> <td>194.39708605555745</td>         <td>9.0</td>         <td>12.649249824663935</td>  <td>0.7115046445245706</td>   <td>0.04943073035764657</td> \n",
       "</tr>\n",
       "<tr>\n",
       "   <td>9.0</td>    <td>149.0</td>          <td>170.0</td>        <td>6.377640298311585</td> <td>155.29313510033802</td> <td>184.70686489966198</td>  <td>134.8817226011057</td>  <td>205.1182773988943</td>        <td>-21.0</td>        <td>12.270929232350422</td>  <td>-1.7113618375890167</td>  <td>0.39556588569996814</td> \n",
       "</tr>\n",
       "<tr>\n",
       "  <td>10.0</td>    <td>202.0</td>          <td>190.0</td>        <td>8.222585693865264</td> <td>171.03868338928046</td> <td>208.96131661071954</td>  <td>152.8983415478401</td>  <td>227.1016584521599</td>        <td>12.0</td>         <td>11.119311332409138</td>   <td>1.079203526303283</td>    <td>0.318447432513666</td>  \n",
       "</tr>\n",
       "</table>"
      ],
      "text/plain": [
       "<class 'statsmodels.iolib.table.SimpleTable'>"
      ]
     },
     "execution_count": 51,
     "metadata": {},
     "output_type": "execute_result"
    }
   ],
   "source": [
    "st"
   ]
  },
  {
   "cell_type": "code",
   "execution_count": 54,
   "metadata": {},
   "outputs": [
    {
     "data": {
      "text/plain": [
       "array([ 70.,  90., 100., 100., 120., 140., 160., 160., 170., 190.])"
      ]
     },
     "execution_count": 54,
     "metadata": {},
     "output_type": "execute_result"
    }
   ],
   "source": [
    "fitted_values = data1[:,2]\n",
    "fitted_values"
   ]
  },
  {
   "cell_type": "code",
   "execution_count": 55,
   "metadata": {},
   "outputs": [
    {
     "data": {
      "text/plain": [
       "array([8.22258569, 6.3776403 , 5.589855  , 5.589855  , 4.52458075,\n",
       "       4.52458075, 5.589855  , 5.589855  , 6.3776403 , 8.22258569])"
      ]
     },
     "execution_count": 55,
     "metadata": {},
     "output_type": "execute_result"
    }
   ],
   "source": [
    "predict_mean_se = data1[:,3]\n",
    "predict_mean_se"
   ]
  },
  {
   "cell_type": "code",
   "execution_count": 57,
   "metadata": {},
   "outputs": [],
   "source": [
    "predict_mean_ci_low,predict_mean_ci_upp = data1[:,4:6].T\n",
    "predict_ci_low, predict_ci_upp = data1[:,6:8].T"
   ]
  },
  {
   "cell_type": "code",
   "execution_count": 58,
   "metadata": {},
   "outputs": [
    {
     "data": {
      "text/plain": [
       "array([ 51.03868339,  75.2931351 ,  87.10977127,  87.10977127,\n",
       "       109.56629808, 129.56629808, 147.10977127, 147.10977127,\n",
       "       155.2931351 , 171.03868339])"
      ]
     },
     "execution_count": 58,
     "metadata": {},
     "output_type": "execute_result"
    }
   ],
   "source": [
    "# Lower limit of confidence interval\n",
    "predict_mean_ci_low"
   ]
  },
  {
   "cell_type": "code",
   "execution_count": 59,
   "metadata": {},
   "outputs": [
    {
     "data": {
      "text/plain": [
       "array([ 88.96131661, 104.7068649 , 112.89022873, 112.89022873,\n",
       "       130.43370192, 150.43370192, 172.89022873, 172.89022873,\n",
       "       184.7068649 , 208.96131661])"
      ]
     },
     "execution_count": 59,
     "metadata": {},
     "output_type": "execute_result"
    }
   ],
   "source": [
    "# Upper limit of confidence interval\n",
    "predict_mean_ci_upp"
   ]
  },
  {
   "cell_type": "code",
   "execution_count": 60,
   "metadata": {},
   "outputs": [
    {
     "data": {
      "text/plain": [
       "array([ 32.89834155,  54.8817226 ,  65.60291394,  65.60291394,\n",
       "        86.446108  , 106.446108  , 125.60291394, 125.60291394,\n",
       "       134.8817226 , 152.89834155])"
      ]
     },
     "execution_count": 60,
     "metadata": {},
     "output_type": "execute_result"
    }
   ],
   "source": [
    "# Lower limit of prediction interval\n",
    "predict_ci_low"
   ]
  },
  {
   "cell_type": "code",
   "execution_count": 61,
   "metadata": {},
   "outputs": [
    {
     "data": {
      "text/plain": [
       "array([107.10165845, 125.1182774 , 134.39708606, 134.39708606,\n",
       "       153.553892  , 173.553892  , 194.39708606, 194.39708606,\n",
       "       205.1182774 , 227.10165845])"
      ]
     },
     "execution_count": 61,
     "metadata": {},
     "output_type": "execute_result"
    }
   ],
   "source": [
    "# Upper limit of prediction interval\n",
    "predict_ci_upp"
   ]
  },
  {
   "cell_type": "code",
   "execution_count": 67,
   "metadata": {},
   "outputs": [
    {
     "data": {
      "text/plain": [
       "<matplotlib.legend.Legend at 0x1cdfe7e70a0>"
      ]
     },
     "execution_count": 67,
     "metadata": {},
     "output_type": "execute_result"
    },
    {
     "data": {
      "image/png": "[encoded data removed]",
      "text/plain": [
       "<Figure size 576x432 with 1 Axes>"
      ]
     },
     "metadata": {
      "needs_background": "light"
     },
     "output_type": "display_data"
    }
   ],
   "source": [
    "fig,ax = plt.subplots(figsize = (8,6))\n",
    "ax.plot(x,y,'o',label = 'Data')\n",
    "ax.plot(X,fitted_values,'r-',label = 'OLS')\n",
    "ax.plot(X,predict_ci_low,'b--')\n",
    "ax.plot(X,predict_ci_upp,'b--')\n",
    "ax.plot(X,predict_mean_ci_low,'g--')\n",
    "ax.plot(X,predict_mean_ci_upp,'g--')\n",
    "ax.legend(loc = 'best')"
   ]
  },
  {
   "cell_type": "code",
   "execution_count": null,
   "metadata": {},
   "outputs": [],
   "source": []
  }
 ],
 "metadata": {
  "kernelspec": {
   "display_name": "Python 3",
   "language": "python",
   "name": "python3"
  },
  "language_info": {
   "codemirror_mode": {
    "name": "ipython",
    "version": 3
   },
   "file_extension": ".py",
   "mimetype": "text/x-python",
   "name": "python",
   "nbconvert_exporter": "python",
   "pygments_lexer": "ipython3",
   "version": "3.8.5"
  }
 },
 "nbformat": 4,
 "nbformat_minor": 4
}
